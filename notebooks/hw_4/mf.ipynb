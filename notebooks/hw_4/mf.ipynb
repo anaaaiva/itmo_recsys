{
 "cells": [
  {
   "cell_type": "markdown",
   "id": "cd125b2b",
   "metadata": {},
   "source": [
    "Before you turn this problem in, make sure everything runs as expected. First, **restart the kernel** (in the menubar, select Kernel $\\rightarrow$ Restart) and then **run all cells** (in the menubar, select Cell $\\rightarrow$ Run All).\n",
    "\n",
    "Make sure you fill in any place that says `YOUR CODE HERE` or \"YOUR ANSWER HERE\", as well as your name and collaborators below:"
   ]
  },
  {
   "cell_type": "code",
   "execution_count": 2,
   "id": "a89391ba",
   "metadata": {},
   "outputs": [],
   "source": [
    "NAME = \"Ivanova Anastasia\"\n",
    "COLLABORATORS = \"\""
   ]
  },
  {
   "cell_type": "markdown",
   "id": "ecae16b6",
   "metadata": {},
   "source": [
    "---"
   ]
  },
  {
   "cell_type": "markdown",
   "id": "8c9daa20-4463-4c29-86d7-e8b55a836d6a",
   "metadata": {
    "deletable": false,
    "editable": false,
    "nbgrader": {
     "cell_type": "markdown",
     "checksum": "36b30e8ebeb12fc2f6ea4f594d3e840a",
     "grade": false,
     "grade_id": "cell-11e06e57608fe1f3",
     "locked": true,
     "schema_version": 3,
     "solution": false,
     "task": false
    }
   },
   "source": [
    "# Домашнее задание №4. Матричная факторизация\n",
    "\n",
    "## Задачи - 25 баллов (+5 доп баллов)\n",
    "1. Ноутбук `mf.ipynb` - 20 баллов\n",
    "- ImplicitALS - 4 балла\n",
    "- SVD - 4 балла\n",
    "- Dataset with features - 2 балла\n",
    "- ImplicitALS with features - 5 баллов\n",
    "- LightFM with features - 5 баллов\n",
    "2. Имплементация модели в сервис - 5 баллов\n",
    "- Пробить на Leaderboard порог `map@10 = 0.075`\n",
    "- Если при этом используете MF (Implicit или LightFM) + ANN (nmslib, faiss, annoy и тд) - дополнительно 5 баллов\n",
    "  \n",
    "## Как сдать ноутбук `mf.ipynb` на проверку\n",
    "\n",
    "1. Прогоните весь код ноутбука - проверьте, что нет ошибок и тесты проходят\n",
    "2. Выложите готовый ноутбук в ваш репозиторий с сервисом из домашнего задания №1 по пути `notebooks/hw_4/mf.ipynb` в ветке `hw_4`\n",
    "3. Проверьте, что есть доступ к вашему репозиторию для аккаунтов `https://github.com/feldlime`\n",
    "4. Откройте PR в main ветку и добавьте в ревьюеры **своего ментора**\n",
    "5. Не проводите мердж в `main` ветку, пока не увидите оценку за это ДЗ в ведомости. Файл с ноутбуком должен находиться в ветке `hw_4`\n",
    "\n",
    "Обратите внимание, что сборка ноутбуков на проверку автоматизирована. В случае неправильного пути, имени файла или ветки (а также при отсутствии доступа у `@feldlime`) ваша работа не попадёт на проверку и получит `0` баллов."
   ]
  },
  {
   "cell_type": "markdown",
   "id": "a23ee5c6-55f6-4a47-89ca-9061a7f2e37e",
   "metadata": {
    "deletable": false,
    "editable": false,
    "nbgrader": {
     "cell_type": "markdown",
     "checksum": "2cc951d771fd1e9022ef563d86fccded",
     "grade": false,
     "grade_id": "cell-65f5b3c366201732",
     "locked": true,
     "schema_version": 3,
     "solution": false,
     "task": false
    }
   },
   "source": [
    "Используемые библиотеки в рамках ДЗ\n",
    "```bash\n",
    "pip install implicit==0.7.2 requests==2.32.3 rectools[lightfm]==0.12.0 pandas==2.2.3 numpy==1.26.4 scipy==1.12.0\n",
    "```"
   ]
  },
  {
   "cell_type": "markdown",
   "id": "4d49cde7-2156-468a-b3e2-e8467e241cf8",
   "metadata": {
    "deletable": false,
    "editable": false,
    "nbgrader": {
     "cell_type": "markdown",
     "checksum": "32f8a416541b1f30170e4fa36b916dde",
     "grade": false,
     "grade_id": "cell-1891eaa3c13c8609",
     "locked": true,
     "schema_version": 3,
     "solution": false,
     "task": false
    }
   },
   "source": [
    "## Импорты и данные"
   ]
  },
  {
   "cell_type": "code",
   "execution_count": 2,
   "id": "e3591f25-aedf-42b5-8b65-1f02e51d3020",
   "metadata": {
    "deletable": false,
    "editable": false,
    "nbgrader": {
     "cell_type": "code",
     "checksum": "5d3560d43412588c0bb9bd078a42470b",
     "grade": false,
     "grade_id": "cell-1ebdc35957207757",
     "locked": true,
     "schema_version": 3,
     "solution": false,
     "task": false
    }
   },
   "outputs": [
    {
     "data": {
      "text/plain": [
       "<threadpoolctl.threadpool_limits at 0x149f71ad550>"
      ]
     },
     "execution_count": 2,
     "metadata": {},
     "output_type": "execute_result"
    }
   ],
   "source": [
    "import os\n",
    "\n",
    "import os.path\n",
    "import threadpoolctl\n",
    "import requests\n",
    "\n",
    "import numpy as np\n",
    "import pandas as pd\n",
    "import zipfile as zf\n",
    "from typing import List\n",
    "\n",
    "\n",
    "from tqdm.auto import tqdm\n",
    "from implicit.als import AlternatingLeastSquares\n",
    "\n",
    "from rectools import Columns\n",
    "from rectools.metrics import MAP, MeanInvUserFreq\n",
    "from rectools.dataset import Dataset\n",
    "from rectools.models import PureSVDModel, ImplicitALSWrapperModel, LightFMWrapperModel, model_from_config\n",
    "\n",
    "# For implicit ALS\n",
    "os.environ[\"OPENBLAS_NUM_THREADS\"] = \"1\"\n",
    "threadpoolctl.threadpool_limits(1, \"blas\")"
   ]
  },
  {
   "cell_type": "code",
   "execution_count": 3,
   "id": "e7c2c865",
   "metadata": {},
   "outputs": [],
   "source": [
    "data_path = os.environ.get(\"DATA_PATH\")\n",
    "\n",
    "if data_path is None:\n",
    "    data_path = \"data_original\""
   ]
  },
  {
   "cell_type": "markdown",
   "id": "0265ea46-e840-452d-b43b-343cbb7eb160",
   "metadata": {
    "deletable": false,
    "editable": false,
    "nbgrader": {
     "cell_type": "markdown",
     "checksum": "3add5c8603bcb94148ba538219a4b475",
     "grade": false,
     "grade_id": "cell-42bc3babcb8ca15b",
     "locked": true,
     "schema_version": 3,
     "solution": false,
     "task": false
    }
   },
   "source": [
    "Если вдруг у вас нет данных, то используйте закомментированный код"
   ]
  },
  {
   "cell_type": "code",
   "execution_count": 4,
   "id": "f385743a-3642-4152-82bd-e4eca87130bd",
   "metadata": {
    "deletable": false,
    "editable": false,
    "nbgrader": {
     "cell_type": "code",
     "checksum": "232f52aebc14ef6476d381c2ad6032ce",
     "grade": false,
     "grade_id": "cell-51b8d9a8dc0e0600",
     "locked": true,
     "schema_version": 3,
     "solution": false,
     "task": false
    }
   },
   "outputs": [],
   "source": [
    "# url = 'https://github.com/irsafilo/KION_DATASET/raw/f69775be31fa5779907cf0a92ddedb70037fb5ae/data_original.zip'\n",
    "\n",
    "# req = requests.get(url, stream=True)\n",
    "\n",
    "# with open('kion.zip', 'wb') as fd:\n",
    "#     total_size_in_bytes = int(req.headers.get('Content-Length', 0))\n",
    "#     progress_bar = tqdm(desc='kion dataset download', total=total_size_in_bytes, unit='iB', unit_scale=True)\n",
    "#     for chunk in req.iter_content(chunk_size=2 ** 20):\n",
    "#         progress_bar.update(len(chunk))\n",
    "#         fd.write(chunk)\n",
    "\n",
    "# files = zf.ZipFile('kion.zip', 'r')\n",
    "# files.extractall()\n",
    "# files.close()"
   ]
  },
  {
   "cell_type": "code",
   "execution_count": 4,
   "id": "2e1b9888-cdc7-47a3-9162-a1ae7de7144e",
   "metadata": {
    "deletable": false,
    "editable": false,
    "nbgrader": {
     "cell_type": "code",
     "checksum": "4ca1c8989d0a4dc05a6f530e86d11d7e",
     "grade": false,
     "grade_id": "cell-a1b82be4e2c39f91",
     "locked": true,
     "schema_version": 3,
     "solution": false,
     "task": false
    }
   },
   "outputs": [
    {
     "name": "stdout",
     "output_type": "stream",
     "text": [
      "(5476251, 5)\n"
     ]
    },
    {
     "data": {
      "text/html": [
       "<div>\n",
       "<style scoped>\n",
       "    .dataframe tbody tr th:only-of-type {\n",
       "        vertical-align: middle;\n",
       "    }\n",
       "\n",
       "    .dataframe tbody tr th {\n",
       "        vertical-align: top;\n",
       "    }\n",
       "\n",
       "    .dataframe thead th {\n",
       "        text-align: right;\n",
       "    }\n",
       "</style>\n",
       "<table border=\"1\" class=\"dataframe\">\n",
       "  <thead>\n",
       "    <tr style=\"text-align: right;\">\n",
       "      <th></th>\n",
       "      <th>user_id</th>\n",
       "      <th>item_id</th>\n",
       "      <th>datetime</th>\n",
       "      <th>weight</th>\n",
       "      <th>watched_pct</th>\n",
       "    </tr>\n",
       "  </thead>\n",
       "  <tbody>\n",
       "    <tr>\n",
       "      <th>0</th>\n",
       "      <td>176549</td>\n",
       "      <td>9506</td>\n",
       "      <td>2021-05-11</td>\n",
       "      <td>4250</td>\n",
       "      <td>72.0</td>\n",
       "    </tr>\n",
       "    <tr>\n",
       "      <th>1</th>\n",
       "      <td>699317</td>\n",
       "      <td>1659</td>\n",
       "      <td>2021-05-29</td>\n",
       "      <td>8317</td>\n",
       "      <td>100.0</td>\n",
       "    </tr>\n",
       "    <tr>\n",
       "      <th>2</th>\n",
       "      <td>656683</td>\n",
       "      <td>7107</td>\n",
       "      <td>2021-05-09</td>\n",
       "      <td>10</td>\n",
       "      <td>0.0</td>\n",
       "    </tr>\n",
       "    <tr>\n",
       "      <th>3</th>\n",
       "      <td>864613</td>\n",
       "      <td>7638</td>\n",
       "      <td>2021-07-05</td>\n",
       "      <td>14483</td>\n",
       "      <td>100.0</td>\n",
       "    </tr>\n",
       "    <tr>\n",
       "      <th>4</th>\n",
       "      <td>964868</td>\n",
       "      <td>9506</td>\n",
       "      <td>2021-04-30</td>\n",
       "      <td>6725</td>\n",
       "      <td>100.0</td>\n",
       "    </tr>\n",
       "  </tbody>\n",
       "</table>\n",
       "</div>"
      ],
      "text/plain": [
       "   user_id  item_id   datetime  weight  watched_pct\n",
       "0   176549     9506 2021-05-11    4250         72.0\n",
       "1   699317     1659 2021-05-29    8317        100.0\n",
       "2   656683     7107 2021-05-09      10          0.0\n",
       "3   864613     7638 2021-07-05   14483        100.0\n",
       "4   964868     9506 2021-04-30    6725        100.0"
      ]
     },
     "execution_count": 4,
     "metadata": {},
     "output_type": "execute_result"
    }
   ],
   "source": [
    "interactions = pd.read_csv(os.path.join(data_path, \"interactions.csv\"), parse_dates=[\"last_watch_dt\"]).rename(\n",
    "    columns={\"total_dur\": Columns.Weight, \"last_watch_dt\": Columns.Datetime}\n",
    ")\n",
    "users = pd.read_csv(os.path.join(data_path, \"users.csv\"))\n",
    "items = pd.read_csv(os.path.join(data_path, \"items.csv\"))\n",
    "\n",
    "print(interactions.shape)\n",
    "interactions.head(5)"
   ]
  },
  {
   "cell_type": "code",
   "execution_count": 5,
   "id": "ecfa3e3e-477e-449c-863f-83decd2a608f",
   "metadata": {
    "deletable": false,
    "editable": false,
    "nbgrader": {
     "cell_type": "code",
     "checksum": "1a4aa13aa9a65766719506af8f33e9e6",
     "grade": false,
     "grade_id": "cell-457223d68ac460f6",
     "locked": true,
     "schema_version": 3,
     "solution": false,
     "task": false
    }
   },
   "outputs": [],
   "source": [
    "N_DAYS = 7\n",
    "\n",
    "max_date = interactions[\"datetime\"].max()\n",
    "train = interactions[(interactions[\"datetime\"] <= max_date - pd.Timedelta(days=N_DAYS))].copy()\n",
    "test = interactions[(interactions[\"datetime\"] > max_date - pd.Timedelta(days=N_DAYS))].copy()\n",
    "\n",
    "catalog = train[Columns.Item].unique()\n",
    "\n",
    "test_users = test[Columns.User].unique()\n",
    "cold_users = set(test_users) - set(train[Columns.User])\n",
    "test = test.drop(test[test[Columns.User].isin(cold_users)].index)\n",
    "hot_users = test[Columns.User].unique()\n",
    "\n",
    "dataset = Dataset.construct(train)"
   ]
  },
  {
   "cell_type": "code",
   "execution_count": 6,
   "id": "ce453ef0-8096-435a-a57d-9bd1e8a1bd92",
   "metadata": {
    "deletable": false,
    "editable": false,
    "nbgrader": {
     "cell_type": "code",
     "checksum": "d8dfcef8f2158255895e0e01f6fd53fe",
     "grade": false,
     "grade_id": "cell-90b2240359478847",
     "locked": true,
     "schema_version": 3,
     "solution": false,
     "task": false
    }
   },
   "outputs": [],
   "source": [
    "K_RECOS = 10\n",
    "map10 = MAP(k=K_RECOS)"
   ]
  },
  {
   "cell_type": "code",
   "execution_count": 7,
   "id": "881f0b50",
   "metadata": {},
   "outputs": [],
   "source": [
    "NUM_THREADS = 16\n",
    "RANDOM_STATE = 42"
   ]
  },
  {
   "cell_type": "markdown",
   "id": "bbf27eea-8d75-4c14-9783-c6a3b9e920cc",
   "metadata": {
    "deletable": false,
    "editable": false,
    "nbgrader": {
     "cell_type": "markdown",
     "checksum": "ee2add9275ef7627b3eb97d6176bf2a8",
     "grade": false,
     "grade_id": "cell-cb516a6d62c42c95",
     "locked": true,
     "schema_version": 3,
     "solution": false,
     "task": false
    }
   },
   "source": [
    "## ImplicitALS\n",
    "\n",
    "### Ситуация:\n",
    "\n",
    "Коллега вернулся из отпуска и вы вместе сели за улучшение модели. Внимательно изучив репозиторий библиотеки implicit вы увидели модель iALS и решаете попробовать ее в деле.\n",
    "\n",
    "Чтобы работа была интереснее, вы заключаете пари с вашим коллегой о том, кто выбьет больше MAP@K на горячих пользователях. \n",
    "\n",
    "Правила пари: \n",
    "- Валидируемся на последней неделе (переменная `test`) и на горячих пользователях `hot_users`\n",
    "- Можно собрать свой `Dataset` на основе `train`, трансформированного, если нужно\n",
    "- Параметры модели задаются конфигом, которые будут передаваться в `model_from_config`\n",
    "\n",
    "У вашего коллеги получилось выбить на ImplicitALS `MAP@K = 0.052`. Ваша задача побить его рекорд."
   ]
  },
  {
   "cell_type": "code",
   "execution_count": 7,
   "id": "b1422084-1e37-4597-9071-ec5f06b4e0f7",
   "metadata": {
    "deletable": false,
    "nbgrader": {
     "cell_type": "code",
     "checksum": "1b3452ea47aae0550afd2d1819ad8131",
     "grade": false,
     "grade_id": "cell-9cc83595f9432cd2",
     "locked": false,
     "schema_version": 3,
     "solution": true,
     "task": false
    }
   },
   "outputs": [],
   "source": [
    "# train preprocessing...\n",
    "train2 = train.copy()\n",
    "train2[Columns.Weight] = np.where(train2[\"watched_pct\"] > 10, 3, 1)\n",
    "\n",
    "dataset2 = Dataset.construct(train2)"
   ]
  },
  {
   "cell_type": "code",
   "execution_count": 8,
   "id": "53655cd3-8757-4d0c-a518-eb7ac2fbf703",
   "metadata": {
    "deletable": false,
    "editable": false,
    "nbgrader": {
     "cell_type": "code",
     "checksum": "495498ee54854e00401257321764ba0d",
     "grade": true,
     "grade_id": "cell-6c041ad93abfab9a",
     "locked": true,
     "points": 4,
     "schema_version": 3,
     "solution": false,
     "task": false
    }
   },
   "outputs": [
    {
     "data": {
      "application/vnd.jupyter.widget-view+json": {
       "model_id": "2dfaafbbde5c43b6b6708598d9b6db6d",
       "version_major": 2,
       "version_minor": 0
      },
      "text/plain": [
       "  0%|          | 0/31 [00:00<?, ?it/s]"
      ]
     },
     "metadata": {},
     "output_type": "display_data"
    },
    {
     "name": "stdout",
     "output_type": "stream",
     "text": [
      "0.056787277110524816\n",
      "CPU times: total: 7min 41s\n",
      "Wall time: 38.7 s\n"
     ]
    }
   ],
   "source": [
    "%%time\n",
    "\n",
    "config = {\n",
    "    \"cls\": \"ImplicitALSWrapperModel\",\n",
    "    \"model\": {\n",
    "        \"factors\": 8,\n",
    "        \"regularization\": 0.057,\n",
    "        \"iterations\": 31,\n",
    "        \"alpha\": 45,\n",
    "        \"random_state\": RANDOM_STATE,\n",
    "        \"num_threads\": NUM_THREADS,\n",
    "    },\n",
    "    \"verbose\": 1,\n",
    "}\n",
    "\n",
    "assert config[\"cls\"] == \"ImplicitALSWrapperModel\"\n",
    "\n",
    "model = model_from_config(config)\n",
    "model.fit(dataset2)\n",
    "\n",
    "recos = model.recommend(\n",
    "    users=hot_users,\n",
    "    dataset=dataset2,\n",
    "    k=K_RECOS,\n",
    "    filter_viewed=True,\n",
    ")\n",
    "print(map10.calc(recos, test))\n",
    "\n",
    "assert map10.calc(recos, test) >= 0.052"
   ]
  },
  {
   "cell_type": "markdown",
   "id": "efc4444f-df43-40fd-82eb-1490fe875e66",
   "metadata": {
    "deletable": false,
    "editable": false,
    "nbgrader": {
     "cell_type": "markdown",
     "checksum": "ad54be3de464395333172c61b3dc2b04",
     "grade": false,
     "grade_id": "cell-0e332207e456475b",
     "locked": true,
     "schema_version": 3,
     "solution": false,
     "task": false
    }
   },
   "source": [
    "## SVD\n",
    "\n",
    "На ваш громкий спор с коллегой о том, что все дело в вашем удачном random seed, к вам подошел ваш лид. \n",
    "\n",
    "Узнав детали вашего спора, он дает вам комментарий, что iALS хороша, но погружение в матричную факторизацию следует начинать с `SVD`.\n",
    "\n",
    "Вы переглянулись с коллегой и решаете уладить спор о random seed во втором раунде, используя новую модель.\n",
    "\n",
    "Ваш коллега смогу выбить на SVD `MAP@K = 0.066`. Вы знаете, что делать."
   ]
  },
  {
   "cell_type": "code",
   "execution_count": null,
   "id": "061caaa5-197e-431a-be19-d2d5d45bcf77",
   "metadata": {
    "deletable": false,
    "nbgrader": {
     "cell_type": "code",
     "checksum": "fb069b2b657931bd000b904a1011d957",
     "grade": false,
     "grade_id": "cell-f1b963c73db09e3a",
     "locked": false,
     "schema_version": 3,
     "solution": true,
     "task": false
    }
   },
   "outputs": [],
   "source": [
    "# train preprocessing...\n",
    "# train3 = train.copy()\n",
    "# train3[Columns.Weight] = np.where(train3[\"weight\"] > 300, 1, 0)\n",
    "\n",
    "# dataset3 = Dataset.construct(train3)"
   ]
  },
  {
   "cell_type": "code",
   "execution_count": 9,
   "id": "ee6a668e-6955-42a5-81a0-f43201eb7b17",
   "metadata": {
    "deletable": false,
    "editable": false,
    "nbgrader": {
     "cell_type": "code",
     "checksum": "7442425085278d3f14732ef6fdaa6c74",
     "grade": true,
     "grade_id": "cell-366e2b318e3b502d",
     "locked": true,
     "points": 4,
     "schema_version": 3,
     "solution": false,
     "task": false
    }
   },
   "outputs": [
    {
     "name": "stdout",
     "output_type": "stream",
     "text": [
      "0.07160874140544336\n",
      "CPU times: total: 13.4 s\n",
      "Wall time: 8.59 s\n"
     ]
    }
   ],
   "source": [
    "%%time\n",
    "\n",
    "config = {\n",
    "    \"cls\": \"PureSVDModel\",\n",
    "    \"factors\": 2,\n",
    "    \"random_state\": RANDOM_STATE,\n",
    "    \"verbose\": 1,\n",
    "}\n",
    "\n",
    "assert config[\"cls\"] == \"PureSVDModel\"\n",
    "\n",
    "model = model_from_config(config)\n",
    "model.fit(dataset2)\n",
    "\n",
    "recos = model.recommend(\n",
    "    users=hot_users,\n",
    "    dataset=dataset2,\n",
    "    k=K_RECOS,\n",
    "    filter_viewed=True,\n",
    ")\n",
    "print(map10.calc(recos, test))\n",
    "\n",
    "assert map10.calc(recos, test) >= 0.066"
   ]
  },
  {
   "cell_type": "markdown",
   "id": "a15c9a89-3727-4298-8f4c-fdc6c737f444",
   "metadata": {
    "deletable": false,
    "editable": false,
    "nbgrader": {
     "cell_type": "markdown",
     "checksum": "77cc40214388de1a4cbcdfad0d43c99d",
     "grade": false,
     "grade_id": "cell-27880a79f53a4d38",
     "locked": true,
     "schema_version": 3,
     "solution": false,
     "task": false
    }
   },
   "source": [
    "## Dataset with features\n",
    "\n",
    "\"Ну это ни в какие ворота!\" - восклицает ваш коллега, увидев ваш победный конфиг. Из другого угла опенспейса доносится \"А я говорил\" от вашего лида.\n",
    "\n",
    "В это время к вам сзади подходит продакт и интересуется предметом вашего спора.\n",
    "\n",
    "Рассказав про особенности найденных вами моделей, он просит вас в них докинуть фичи, ведь на одних взаимодействиях далеко не уедешь.\n",
    "\n",
    "Вы согласились, ведь это отличная возможность продолжить пари. Соберите `Dataset` с фичами по пользователям и итемам, который вы будете использовать дальше\n"
   ]
  },
  {
   "cell_type": "code",
   "execution_count": 9,
   "id": "9d2d315b",
   "metadata": {},
   "outputs": [],
   "source": [
    "def get_user_features(users: pd.DataFrame, interactions: pd.DataFrame) -> pd.DataFrame:\n",
    "    users.fillna(\"Unknown\", inplace=True)\n",
    "    users = users.loc[users[Columns.User].isin(interactions[Columns.User])].copy()\n",
    "\n",
    "    user_features_frames = []\n",
    "\n",
    "    for feature in [\"sex\", \"age\", \"income\"]:\n",
    "        feature_frame = users.reindex(columns=[Columns.User, feature])\n",
    "        feature_frame.columns = [\"id\", \"value\"]\n",
    "        feature_frame[\"feature\"] = feature\n",
    "        user_features_frames.append(feature_frame)\n",
    "\n",
    "    user_features = pd.concat(user_features_frames)\n",
    "    return user_features\n",
    "\n",
    "\n",
    "def get_item_features(items: pd.DataFrame, interactions: pd.DataFrame) -> pd.DataFrame:\n",
    "    # items.fillna(\"Unknown\", inplace=True)\n",
    "    items = items.loc[items[Columns.Item].isin(interactions[Columns.Item])].copy()\n",
    "\n",
    "    items[\"genre\"] = items[\"genres\"].str.lower().str.replace(\", \", \",\", regex=False).str.split(\",\")\n",
    "    genre_feature = items[[\"item_id\", \"genre\"]].explode(\"genre\")\n",
    "    genre_feature.columns = [\"id\", \"value\"]\n",
    "    genre_feature[\"feature\"] = \"genre\"\n",
    "\n",
    "    content_feature = items.reindex(columns=[Columns.Item, \"content_type\"])\n",
    "    content_feature.columns = [\"id\", \"value\"]\n",
    "    content_feature[\"feature\"] = \"content_type\"\n",
    "    item_features = pd.concat((genre_feature, content_feature))\n",
    "    return item_features"
   ]
  },
  {
   "cell_type": "code",
   "execution_count": 9,
   "id": "a4401951-ae61-4b0b-af21-76bdee4d05a1",
   "metadata": {
    "deletable": false,
    "nbgrader": {
     "cell_type": "code",
     "checksum": "b59f31697e1dfb1c96f50724c8cc8189",
     "grade": false,
     "grade_id": "cell-b0397a70b8235dd9",
     "locked": false,
     "schema_version": 3,
     "solution": true,
     "task": false
    }
   },
   "outputs": [],
   "source": [
    "dataset_with_features = Dataset.construct(\n",
    "    interactions_df=train2,\n",
    "    user_features_df=get_user_features(users, train),\n",
    "    cat_user_features=[\"sex\", \"age\", \"income\"],\n",
    "    item_features_df=get_item_features(items, train),\n",
    "    cat_item_features=[\"genre\", \"content_type\"],\n",
    ")"
   ]
  },
  {
   "cell_type": "code",
   "execution_count": 10,
   "id": "3ae33beb-75c5-452e-b765-728da8541f1a",
   "metadata": {
    "deletable": false,
    "editable": false,
    "nbgrader": {
     "cell_type": "code",
     "checksum": "e5bd9f36f5935febfb3fd89aa0ceb858",
     "grade": true,
     "grade_id": "cell-7773b657b67af87b",
     "locked": true,
     "points": 2,
     "schema_version": 3,
     "solution": false,
     "task": false
    }
   },
   "outputs": [],
   "source": [
    "assert (dataset_with_features.user_features is not None) and (dataset_with_features.item_features is not None)"
   ]
  },
  {
   "cell_type": "markdown",
   "id": "c816b107-22ed-4d1b-a7dc-c24204918b27",
   "metadata": {
    "deletable": false,
    "editable": false,
    "nbgrader": {
     "cell_type": "markdown",
     "checksum": "ab7db39bce2b8ccce0a780e3844afe3c",
     "grade": false,
     "grade_id": "cell-cd998c54807b4e86",
     "locked": true,
     "schema_version": 3,
     "solution": false,
     "task": false
    }
   },
   "source": [
    "## ImplicitALS with features\n",
    "\n",
    "Собрав датасет с фичами вы готовы к третьему раунду пари. \n",
    "\n",
    "Вы решаете начать снова с `iALS`, до сих пор удивляясь результатам модели `SVD`.\n",
    "\n",
    "Ваш коллега изучил вашу технику подбора random seed и хитро улыбается вам.\n",
    "\n",
    "Он смог выбить `MAP@K = 0.073`, теперь ваш ход."
   ]
  },
  {
   "cell_type": "code",
   "execution_count": 11,
   "id": "71a204d4-db2e-4733-8dac-1bac63672ea7",
   "metadata": {
    "deletable": false,
    "nbgrader": {
     "cell_type": "code",
     "checksum": "801d13cb2a998d3fe0ac43a43aafa21e",
     "grade": false,
     "grade_id": "cell-651def1b6c1a52b6",
     "locked": false,
     "schema_version": 3,
     "solution": true,
     "task": false
    }
   },
   "outputs": [],
   "source": [
    "config = {\n",
    "    \"cls\": \"ImplicitALSWrapperModel\",\n",
    "    \"model\": {\"factors\": 128, \"iterations\": 20, \"random_state\": RANDOM_STATE, \"num_threads\": NUM_THREADS},\n",
    "    \"fit_features_together\": True,\n",
    "    \"verbose\": 1,\n",
    "}"
   ]
  },
  {
   "cell_type": "code",
   "execution_count": 12,
   "id": "990ee09f-7c93-4ccf-9ff9-eff9a6d772f1",
   "metadata": {
    "deletable": false,
    "editable": false,
    "nbgrader": {
     "cell_type": "code",
     "checksum": "1647b9fff8511e08b9e0775e030720a6",
     "grade": true,
     "grade_id": "cell-f3ed67874a568322",
     "locked": true,
     "points": 5,
     "schema_version": 3,
     "solution": false,
     "task": false
    }
   },
   "outputs": [
    {
     "name": "stderr",
     "output_type": "stream",
     "text": [
      "c:\\Users\\ivawi\\projects\\aith_recsys\\.venv\\Lib\\site-packages\\rectools\\dataset\\features.py:424: UserWarning: Converting sparse features to dense array may cause MemoryError\n",
      "  warnings.warn(\"Converting sparse features to dense array may cause MemoryError\")\n"
     ]
    },
    {
     "data": {
      "application/vnd.jupyter.widget-view+json": {
       "model_id": "b9269a1a4f42457d8d62e695d8a5d074",
       "version_major": 2,
       "version_minor": 0
      },
      "text/plain": [
       "  0%|          | 0/20 [00:00<?, ?it/s]"
      ]
     },
     "metadata": {},
     "output_type": "display_data"
    },
    {
     "name": "stdout",
     "output_type": "stream",
     "text": [
      "0.07735872965766306\n",
      "CPU times: total: 15min 10s\n",
      "Wall time: 1min 36s\n"
     ]
    }
   ],
   "source": [
    "%%time\n",
    "assert config[\"cls\"] == \"ImplicitALSWrapperModel\"\n",
    "\n",
    "model = model_from_config(config)\n",
    "model.fit(dataset_with_features)\n",
    "\n",
    "recos = model.recommend(\n",
    "    users=hot_users,\n",
    "    dataset=dataset_with_features,\n",
    "    k=K_RECOS,\n",
    "    filter_viewed=True,\n",
    ")\n",
    "print(map10.calc(recos, test))\n",
    "\n",
    "assert map10.calc(recos, test) >= 0.073"
   ]
  },
  {
   "cell_type": "markdown",
   "id": "90db2890-cd95-4d87-bcd6-daea1ac3ebaf",
   "metadata": {
    "deletable": false,
    "editable": false,
    "nbgrader": {
     "cell_type": "markdown",
     "checksum": "78909d2aae6602db543a1c1bb5f15c9f",
     "grade": false,
     "grade_id": "cell-be7c982c198ab7fa",
     "locked": true,
     "schema_version": 3,
     "solution": false,
     "task": false
    }
   },
   "source": [
    "## LightFM with features\n",
    "\n",
    "И снова ор выше гор, ваш пайплайн подготовки датасета помог вам в очередной раз обойти вашего коллегу.\n",
    "\n",
    "Не зная, к чему еще аппелировать, он зовет вашего старшего коллегу, чтобы тот внимательно изучил полученные результаты.\n",
    "\n",
    "\"iALS с фичами это хорошо, но тут стоит попробовать факторизационные машины, попробуйте `LightFM`\" - заключает он. Вы переключаетесь на изучение новой библиотеки, предвкушая финальный раунд.\n",
    "\n",
    "Ваш коллега смог выжать из своего обновленного `Dataset` и `LightFM` скор `MAP@10 = 0.08`. Последний рывок."
   ]
  },
  {
   "cell_type": "code",
   "execution_count": null,
   "id": "989e575b",
   "metadata": {},
   "outputs": [],
   "source": [
    "N_EPOCHS = 1\n",
    "USER_ALPHA = 0.504800831954473\n",
    "ITEM_ALPHA = 0.8787511720434733\n",
    "LEARNING_RATE = 0.0004069497441886399"
   ]
  },
  {
   "cell_type": "code",
   "execution_count": null,
   "id": "354dab72-6e5b-428e-876a-08087f5fb066",
   "metadata": {
    "deletable": false,
    "nbgrader": {
     "cell_type": "code",
     "checksum": "efcc708838dc41e23a742fd27c720556",
     "grade": false,
     "grade_id": "cell-cec5f5df8bfd0aca",
     "locked": false,
     "schema_version": 3,
     "solution": true,
     "task": false
    }
   },
   "outputs": [],
   "source": [
    "# Лучшие параметры:\n",
    "# {'no_components': 97, 'learning_rate': 0.0004069497441886399, 'user_alpha': 0.504800831954473, 'item_alpha': 0.8787511720434733}\n",
    "# Лучший результат: 0.08029\n",
    "\n",
    "config = {\n",
    "    \"cls\": \"LightFMWrapperModel\",\n",
    "    \"model\": {\n",
    "        \"loss\": \"warp\",\n",
    "        \"no_components\": 97,\n",
    "        \"learning_rate\": LEARNING_RATE,\n",
    "        \"user_alpha\": USER_ALPHA,\n",
    "        \"item_alpha\": ITEM_ALPHA,\n",
    "        \"random_state\": RANDOM_STATE,\n",
    "    },\n",
    "    \"num_threads\": 1,\n",
    "    \"epochs\": N_EPOCHS,\n",
    "    \"verbose\": 1,\n",
    "}"
   ]
  },
  {
   "cell_type": "code",
   "execution_count": null,
   "id": "77081fd4-13f2-46c7-88d2-e2a716d00216",
   "metadata": {
    "deletable": false,
    "editable": false,
    "nbgrader": {
     "cell_type": "code",
     "checksum": "a4709d6a6bd4ee8dc0429b7c665404b1",
     "grade": true,
     "grade_id": "cell-754f9152c2a343a5",
     "locked": true,
     "points": 5,
     "schema_version": 3,
     "solution": false,
     "task": false
    }
   },
   "outputs": [],
   "source": [
    "%%time\n",
    "assert config[\"cls\"] == \"LightFMWrapperModel\"\n",
    "\n",
    "model = model_from_config(config)\n",
    "model.fit(dataset_with_features)\n",
    "\n",
    "recos = model.recommend(\n",
    "    users=hot_users,\n",
    "    dataset=dataset_with_features,\n",
    "    k=K_RECOS,\n",
    "    filter_viewed=True,\n",
    ")\n",
    "print(map10.calc(recos, test))\n",
    "\n",
    "assert map10.calc(recos, test) >= 0.08"
   ]
  },
  {
   "cell_type": "markdown",
   "id": "d66532fb-7c3d-42a9-80cb-b93b27607b51",
   "metadata": {
    "deletable": false,
    "editable": false,
    "nbgrader": {
     "cell_type": "markdown",
     "checksum": "0454bd766dd9f1f03ac555efdbc643de",
     "grade": false,
     "grade_id": "cell-118d671fe7000a31",
     "locked": true,
     "schema_version": 3,
     "solution": false,
     "task": false
    }
   },
   "source": [
    "## Сервис\n",
    "\n",
    "Эта битва была легендарной, но вот за спиной опять появляется ваш продакт. \n",
    "\n",
    "\"Время катить АБ\" - говорит он в пятницу вечером. Делать нечего, вы собираете ваши наработки и определяете совместный фронт работ.\n",
    "\n",
    "В прод должна заехать лучшая модель, которая побьет текущей модели в проде в `MAP@10 = 0.075`.\n",
    "\n",
    "Также есть бонус от вашего старшего коллеги, который вам советует присмотреться к `Approximate nearest neighbours`, например к `nmslib`.\n",
    "\n",
    "\"Если сможешь обернуть в ANN, то на следующем годовом ревью получишь от меня оценку отлично\" - сказал он. Изучить новые технологии и получить повышение - идеально, заключаете вы и бросаетесь в бой."
   ]
  },
  {
   "cell_type": "code",
   "execution_count": null,
   "id": "3975423c",
   "metadata": {},
   "outputs": [],
   "source": [
    "# all_interactions = interactions.copy()\n",
    "# all_interactions[Columns.Weight] = np.where(all_interactions[\"watched_pct\"] > 10, 3, 1)\n",
    "\n",
    "# dataset_with_features = Dataset.construct(\n",
    "#     interactions_df=all_interactions,\n",
    "#     user_features_df=get_user_features(users, all_interactions),\n",
    "#     cat_user_features=[\"sex\", \"age\", \"income\"],\n",
    "#     item_features_df=get_item_features(items, all_interactions),\n",
    "#     cat_item_features=[\"genre\", \"content_type\"],\n",
    "# )\n",
    "\n",
    "# config = {\n",
    "#     \"cls\": \"ImplicitALSWrapperModel\",\n",
    "#     \"model\": {\"factors\": 128, \"iterations\": 20, \"random_state\": RANDOM_STATE, \"num_threads\": NUM_THREADS},\n",
    "#     \"fit_features_together\": True,\n",
    "#     \"verbose\": 1,\n",
    "# }\n",
    "\n",
    "# model = model_from_config(config)\n",
    "# model.fit(dataset_with_features)\n",
    "\n",
    "# offline_reco = model.recommend(\n",
    "#     users=interactions.user_id.unique(),\n",
    "#     dataset=dataset_with_features,\n",
    "#     k=K_RECOS,\n",
    "#     filter_viewed=True,\n",
    "# )\n",
    "\n",
    "# popular_items = interactions.groupby(\"item_id\").size().sort_values(ascending=False).index.tolist()\n",
    "\n",
    "# all_recs = offline_reco.groupby(\"user_id\", as_index=False).agg({\"item_id\": list})\n",
    "# all_recs = pd.concat([pd.DataFrame({\"user_id\": -1, \"item_id\": [popular_items[:10]]}), all_recs])\n",
    "# all_recs.to_parquet(\"../../service/recsys_models/f128_als_model_predictions.parquet\", index=False)"
   ]
  },
  {
   "cell_type": "code",
   "execution_count": null,
   "id": "08320e60",
   "metadata": {},
   "outputs": [],
   "source": [
    "# import pickle\n",
    "# with open('../../service/recsys_models/als.pkl', \"wb\") as file:\n",
    "#     pickle.dump(model, file)"
   ]
  },
  {
   "cell_type": "code",
   "execution_count": null,
   "id": "0d688106",
   "metadata": {},
   "outputs": [],
   "source": [
    "# from rectools.tools import UserToItemAnnRecommender\n",
    "# import pickle\n",
    "\n",
    "# user_vectors, item_vectors = model.get_vectors()\n",
    "# # как я поняла, это обертка над nmslib, так что под задание подходит\n",
    "# als_ann = UserToItemAnnRecommender(\n",
    "#     user_vectors=user_vectors,\n",
    "#     item_vectors=item_vectors,\n",
    "#     user_id_map=dataset_with_features.user_id_map,\n",
    "#     item_id_map=dataset_with_features.item_id_map,\n",
    "# )\n",
    "# als_ann.fit()\n",
    "\n",
    "# als_ann.index.saveIndex(filename='../../service/recsys_models/als_ann_index.pkl')\n",
    "\n",
    "# with open(\"../../service/recsys_models/user_id_map.pkl\", \"wb\") as file:\n",
    "#     pickle.dump(dataset_with_features.user_id_map, file)\n",
    "\n",
    "# with open(\"../../service/recsys_models/item_id_map.pkl\", \"wb\") as file:\n",
    "#     pickle.dump(dataset_with_features.item_id_map, file)\n",
    "\n",
    "# не работает на windows\n",
    "# with open(\"../../service/recsys_models/f128_als_model_ann.pkl\", \"wb\") as f:\n",
    "#     pickle.dump(als_ann, f)"
   ]
  },
  {
   "cell_type": "markdown",
   "id": "920eaf23-c2e5-4022-9641-b32d24cef82a",
   "metadata": {
    "deletable": false,
    "editable": false,
    "nbgrader": {
     "cell_type": "markdown",
     "checksum": "a48a2bfc2446054cb0f506b90a8a05aa",
     "grade": false,
     "grade_id": "cell-992a2a7a692d4927",
     "locked": true,
     "schema_version": 3,
     "solution": false,
     "task": false
    }
   },
   "source": [
    "# Вместо заключения\n",
    "\n",
    "## Задачи - 25 баллов (30 баллов с доп задачей по ANN)\n",
    "1. Ноутбук `mf.ipynb` - 20 баллов\n",
    "- SVD - 5 баллов\n",
    "- ImplicitALS - 5 баллов\n",
    "- ImplicitALS with features - 5 баллов\n",
    "- LightFM with features - 5 баллов\n",
    "2. Имплементация модели в сервис - 5 баллов\n",
    "- Пробить на Leaderboard порог `map@10 = 0.075`\n",
    "- Если при этом используете MF (Implicit или LightFM) + ANN (nmslib, faiss, annoy и тд) - дополнительно 5 баллов\n",
    "  \n",
    "## Как сдать ноутбук `mf.ipynb` на проверку\n",
    "\n",
    "1. Прогоните весь код ноутбука - проверьте, что нет ошибок и тесты проходят\n",
    "2. Выложите готовый ноутбук в ваш репозиторий с сервисом из домашнего задания №1 по пути `notebooks/hw_4/mf.ipynb` в ветке `hw_4`\n",
    "3. Проверьте, что есть доступ к вашему репозиторию для аккаунтов `https://github.com/feldlime`\n",
    "4. Откройте PR в main ветку и добавьте в ревьюеры **своего ментора**\n",
    "5. Не проводите мердж в `main` ветку, пока не увидите оценку за это ДЗ в ведомости. Файл с ноутбуком должен находиться в ветке `hw_4`\n",
    "\n",
    "Обратите внимание, что сборка ноутбуков на проверку автоматизирована. В случае неправильного пути, имени файла или ветки (а также при отсутствии доступа у `@feldlime`) ваша работа не попадёт на проверку и получит `0` баллов."
   ]
  }
 ],
 "metadata": {
  "kernelspec": {
   "display_name": ".venv",
   "language": "python",
   "name": "python3"
  },
  "language_info": {
   "codemirror_mode": {
    "name": "ipython",
    "version": 3
   },
   "file_extension": ".py",
   "mimetype": "text/x-python",
   "name": "python",
   "nbconvert_exporter": "python",
   "pygments_lexer": "ipython3",
   "version": "3.12.4"
  },
  "widgets": {
   "application/vnd.jupyter.widget-state+json": {
    "state": {},
    "version_major": 2,
    "version_minor": 0
   }
  }
 },
 "nbformat": 4,
 "nbformat_minor": 5
}
