{
  "cells": [
    {
      "cell_type": "markdown",
      "id": "a1450f90",
      "metadata": {
        "id": "a1450f90"
      },
      "source": [
        "In this seminar, you've explored a basic implementation of the Deep Structured Semantic Model (DSSM).\n",
        "\n",
        "Your task is to **improve this model** in one or more of the following directions:\n",
        "\n",
        "### ✅ Model Improvements\n",
        "- Replace MLP towers with Transformer or RNN encoders or etc. (5 баллов) **(done)**\n",
        "- Use different triplet loss. (3 балла) **(done)**\n",
        "- Add dropout, batch normalization, or layer norm. (3 балла) **(done)**\n",
        "- Integrate embeddings instead of one-hot vectors. (5 баллов) **(done)**\n",
        "- Visualize similarity distribution for positive vs. negative pairs. (5 баллов)\n",
        "\n",
        "### ✅ Evaluation & Analysis\n",
        "- Visualize embeddings using t-SNE or UMAP. (3 баллов)\n",
        "- Develop and improve beyond accuracy metrics. (5 баллов)\n",
        "\n",
        "### 📄 Deliverables\n",
        "- Explain what you changed and why in the final markdown cell. (3 балла) **(done)**\n",
        "- Keep code modular, clean, and well-documented. (3 балла) **i hope (done)**\n",
        "\n",
        "### 📝 Production\n",
        "- create service based on DSSM vectors with ANN. (8 баллов) **(done)**\n",
        "\n",
        "### 📝 Leaderboard\n",
        "- Improve score from UserKNN via DSSM (8 баллов) **(done)**\n",
        "\n",
        "\n",
        "Максимум баллов, которые можно получить - 25."
      ]
    },
    {
      "cell_type": "code",
      "execution_count": null,
      "id": "69244221",
      "metadata": {
        "id": "69244221"
      },
      "outputs": [],
      "source": [
        "import pandas as pd\n",
        "import numpy as np\n",
        "import os\n",
        "from collections import Counter\n",
        "import requests\n",
        "import torch\n",
        "from tqdm import tqdm\n",
        "import zipfile\n",
        "import torch.nn as nn\n",
        "import torch.nn.functional as F\n",
        "from torch.utils.data import Dataset, DataLoader\n",
        "from sklearn.preprocessing import LabelEncoder\n",
        "from lightning import Trainer\n",
        "from lightning.pytorch.callbacks import ModelCheckpoint\n",
        "import lightning as L\n",
        "import pickle\n",
        "import nmslib"
      ]
    },
    {
      "cell_type": "markdown",
      "id": "f2f03e46",
      "metadata": {
        "id": "f2f03e46"
      },
      "source": [
        "## Предобработка данных и создание датасета"
      ]
    },
    {
      "cell_type": "code",
      "execution_count": 2,
      "id": "joVq_PatHqa6",
      "metadata": {
        "id": "joVq_PatHqa6"
      },
      "outputs": [],
      "source": [
        "def download_and_extract():\n",
        "    url = \"https://github.com/irsafilo/KION_DATASET/raw/f69775be31fa5779907cf0a92ddedb70037fb5ae/data_original.zip\"\n",
        "    filename = \"kion_train.zip\"\n",
        "\n",
        "    response = requests.get(url, stream=True)\n",
        "    with open(filename, \"wb\") as f:\n",
        "        total = int(response.headers.get(\"content-length\", 0))\n",
        "        progress = tqdm(\n",
        "            response.iter_content(1024 * 1024), f\"Downloading {filename}\", total=total // (1024 * 1024), unit=\"MB\"\n",
        "        )\n",
        "        for chunk in progress:\n",
        "            f.write(chunk)\n",
        "\n",
        "    with zipfile.ZipFile(filename, \"r\") as zip_ref:\n",
        "        zip_ref.extractall(\"data\")\n",
        "    os.remove(filename)\n",
        "\n",
        "\n",
        "if not os.path.exists(\"data/data_original\"):\n",
        "    download_and_extract()"
      ]
    },
    {
      "cell_type": "code",
      "execution_count": 3,
      "id": "b5172c65",
      "metadata": {
        "id": "b5172c65"
      },
      "outputs": [],
      "source": [
        "interactions = pd.read_csv(\"data/data_original/interactions.csv\")\n",
        "users = pd.read_csv(\"data/data_original/users.csv\")\n",
        "items = pd.read_csv(\"data/data_original/items.csv\")"
      ]
    },
    {
      "cell_type": "code",
      "execution_count": 4,
      "id": "398f7588",
      "metadata": {
        "colab": {
          "base_uri": "https://localhost:8080/",
          "height": 226
        },
        "id": "398f7588",
        "outputId": "c72e0688-411f-4e1d-e4ea-ffb13f878520"
      },
      "outputs": [
        {
          "data": {
            "text/html": [
              "<div>\n",
              "<style scoped>\n",
              "    .dataframe tbody tr th:only-of-type {\n",
              "        vertical-align: middle;\n",
              "    }\n",
              "\n",
              "    .dataframe tbody tr th {\n",
              "        vertical-align: top;\n",
              "    }\n",
              "\n",
              "    .dataframe thead th {\n",
              "        text-align: right;\n",
              "    }\n",
              "</style>\n",
              "<table border=\"1\" class=\"dataframe\">\n",
              "  <thead>\n",
              "    <tr style=\"text-align: right;\">\n",
              "      <th></th>\n",
              "      <th>user_id</th>\n",
              "      <th>age</th>\n",
              "      <th>income</th>\n",
              "      <th>sex</th>\n",
              "      <th>kids_flg</th>\n",
              "    </tr>\n",
              "  </thead>\n",
              "  <tbody>\n",
              "    <tr>\n",
              "      <th>0</th>\n",
              "      <td>973171</td>\n",
              "      <td>1</td>\n",
              "      <td>4</td>\n",
              "      <td>2</td>\n",
              "      <td>1</td>\n",
              "    </tr>\n",
              "    <tr>\n",
              "      <th>1</th>\n",
              "      <td>962099</td>\n",
              "      <td>0</td>\n",
              "      <td>2</td>\n",
              "      <td>2</td>\n",
              "      <td>0</td>\n",
              "    </tr>\n",
              "    <tr>\n",
              "      <th>2</th>\n",
              "      <td>1047345</td>\n",
              "      <td>3</td>\n",
              "      <td>3</td>\n",
              "      <td>1</td>\n",
              "      <td>0</td>\n",
              "    </tr>\n",
              "    <tr>\n",
              "      <th>3</th>\n",
              "      <td>721985</td>\n",
              "      <td>3</td>\n",
              "      <td>2</td>\n",
              "      <td>1</td>\n",
              "      <td>0</td>\n",
              "    </tr>\n",
              "    <tr>\n",
              "      <th>4</th>\n",
              "      <td>704055</td>\n",
              "      <td>2</td>\n",
              "      <td>4</td>\n",
              "      <td>1</td>\n",
              "      <td>0</td>\n",
              "    </tr>\n",
              "  </tbody>\n",
              "</table>\n",
              "</div>"
            ],
            "text/plain": [
              "   user_id  age  income  sex  kids_flg\n",
              "0   973171    1       4    2         1\n",
              "1   962099    0       2    2         0\n",
              "2  1047345    3       3    1         0\n",
              "3   721985    3       2    1         0\n",
              "4   704055    2       4    1         0"
            ]
          },
          "execution_count": 4,
          "metadata": {},
          "output_type": "execute_result"
        }
      ],
      "source": [
        "# user_cat_feats = [\"age\", \"income\", \"sex\", \"kids_flg\"]\n",
        "# users_df = users.user_id\n",
        "# for feat in user_cat_feats:\n",
        "#     ohe_feat_df = pd.get_dummies(users[feat], prefix=feat)\n",
        "#     users_df = pd.concat([users_df, ohe_feat_df], axis=1)\n",
        "# users_df.head()\n",
        "\n",
        "# убрала OHE, чтобы потом создать эмбеддинги фичей в модели\n",
        "user_cat_feats = [\"age\", \"income\", \"sex\", \"kids_flg\"]\n",
        "user_encoders = {}\n",
        "users_df = users[[\"user_id\"]].copy()\n",
        "for feat in user_cat_feats:\n",
        "    user_le = LabelEncoder()\n",
        "    users_df[feat] = user_le.fit_transform(users[feat].astype(str))\n",
        "    user_encoders[feat] = {class_label: index for index, class_label in enumerate(user_le.classes_)}\n",
        "USER_CATEGORIES_N_UNIQUE = [users_df[col].nunique() for col in user_cat_feats]\n",
        "users_df.head()"
      ]
    },
    {
      "cell_type": "code",
      "execution_count": 5,
      "id": "63116583",
      "metadata": {
        "colab": {
          "base_uri": "https://localhost:8080/",
          "height": 290
        },
        "id": "63116583",
        "outputId": "59897d39-a8de-4d65-8df6-80d1bb6da019"
      },
      "outputs": [
        {
          "data": {
            "text/html": [
              "<div>\n",
              "<style scoped>\n",
              "    .dataframe tbody tr th:only-of-type {\n",
              "        vertical-align: middle;\n",
              "    }\n",
              "\n",
              "    .dataframe tbody tr th {\n",
              "        vertical-align: top;\n",
              "    }\n",
              "\n",
              "    .dataframe thead th {\n",
              "        text-align: right;\n",
              "    }\n",
              "</style>\n",
              "<table border=\"1\" class=\"dataframe\">\n",
              "  <thead>\n",
              "    <tr style=\"text-align: right;\">\n",
              "      <th></th>\n",
              "      <th>item_id</th>\n",
              "      <th>content_type</th>\n",
              "      <th>release_year</th>\n",
              "      <th>for_kids</th>\n",
              "      <th>age_rating</th>\n",
              "      <th>studios</th>\n",
              "      <th>countries</th>\n",
              "      <th>directors</th>\n",
              "    </tr>\n",
              "  </thead>\n",
              "  <tbody>\n",
              "    <tr>\n",
              "      <th>0</th>\n",
              "      <td>10711</td>\n",
              "      <td>0</td>\n",
              "      <td>85</td>\n",
              "      <td>2</td>\n",
              "      <td>2</td>\n",
              "      <td>33</td>\n",
              "      <td>258</td>\n",
              "      <td>5671</td>\n",
              "    </tr>\n",
              "    <tr>\n",
              "      <th>1</th>\n",
              "      <td>2508</td>\n",
              "      <td>0</td>\n",
              "      <td>97</td>\n",
              "      <td>2</td>\n",
              "      <td>2</td>\n",
              "      <td>33</td>\n",
              "      <td>421</td>\n",
              "      <td>6546</td>\n",
              "    </tr>\n",
              "    <tr>\n",
              "      <th>2</th>\n",
              "      <td>10716</td>\n",
              "      <td>0</td>\n",
              "      <td>94</td>\n",
              "      <td>2</td>\n",
              "      <td>2</td>\n",
              "      <td>33</td>\n",
              "      <td>298</td>\n",
              "      <td>95</td>\n",
              "    </tr>\n",
              "    <tr>\n",
              "      <th>3</th>\n",
              "      <td>7868</td>\n",
              "      <td>0</td>\n",
              "      <td>98</td>\n",
              "      <td>2</td>\n",
              "      <td>2</td>\n",
              "      <td>33</td>\n",
              "      <td>57</td>\n",
              "      <td>7735</td>\n",
              "    </tr>\n",
              "    <tr>\n",
              "      <th>4</th>\n",
              "      <td>16268</td>\n",
              "      <td>0</td>\n",
              "      <td>61</td>\n",
              "      <td>2</td>\n",
              "      <td>1</td>\n",
              "      <td>34</td>\n",
              "      <td>419</td>\n",
              "      <td>1544</td>\n",
              "    </tr>\n",
              "  </tbody>\n",
              "</table>\n",
              "</div>"
            ],
            "text/plain": [
              "   item_id  content_type  release_year  for_kids  age_rating  studios  \\\n",
              "0    10711             0            85         2           2       33   \n",
              "1     2508             0            97         2           2       33   \n",
              "2    10716             0            94         2           2       33   \n",
              "3     7868             0            98         2           2       33   \n",
              "4    16268             0            61         2           1       34   \n",
              "\n",
              "   countries  directors  \n",
              "0        258       5671  \n",
              "1        421       6546  \n",
              "2        298         95  \n",
              "3         57       7735  \n",
              "4        419       1544  "
            ]
          },
          "execution_count": 5,
          "metadata": {},
          "output_type": "execute_result"
        }
      ],
      "source": [
        "# item_cat_feats = [\"content_type\", \"release_year\", \"for_kids\", \"age_rating\", \"studios\", \"countries\", \"directors\"]\n",
        "# items_df = items.item_id\n",
        "# for feat in item_cat_feats:\n",
        "#     ohe_feat_df = pd.get_dummies(items[feat], prefix=feat)\n",
        "#     items_df = pd.concat([items_df, ohe_feat_df], axis=1)\n",
        "# items_df.head()\n",
        "\n",
        "item_cat_feats = [\"content_type\", \"release_year\", \"for_kids\", \"age_rating\", \"studios\", \"countries\", \"directors\"]\n",
        "item_encoders = {}\n",
        "items_df = items[[\"item_id\"]].copy()\n",
        "for feat in item_cat_feats:\n",
        "    item_le = LabelEncoder()\n",
        "    items_df[feat] = item_le.fit_transform(items[feat].astype(str))\n",
        "    item_encoders[feat] = {class_label: index for index, class_label in enumerate(item_le.classes_)}\n",
        "\n",
        "ITEM_CATEGORIES_N_UNIQUE = [items_df[col].nunique() for col in item_cat_feats]\n",
        "items_df.head()"
      ]
    },
    {
      "cell_type": "code",
      "execution_count": 6,
      "id": "1e0ecc6b",
      "metadata": {
        "colab": {
          "base_uri": "https://localhost:8080/"
        },
        "id": "1e0ecc6b",
        "outputId": "38c0f7c7-8639-435e-c819-89b99b48d1ab"
      },
      "outputs": [
        {
          "name": "stdout",
          "output_type": "stream",
          "text": [
            "N users before: 962179\n",
            "N items before: 15706\n",
            "\n",
            "N users after: 79515\n",
            "N items after: 6901\n"
          ]
        }
      ],
      "source": [
        "print(f\"N users before: {interactions.user_id.nunique()}\")\n",
        "print(f\"N items before: {interactions.item_id.nunique()}\\n\")\n",
        "\n",
        "interactions_df = interactions[interactions.watched_pct > 10]\n",
        "valid_users = []\n",
        "\n",
        "c = Counter(interactions_df.user_id)\n",
        "for user_id, entries in c.most_common():\n",
        "    if entries > 10:\n",
        "        valid_users.append(user_id)\n",
        "\n",
        "valid_items = []\n",
        "\n",
        "c = Counter(interactions_df.item_id)\n",
        "for item_id, entries in c.most_common():\n",
        "    if entries > 10:\n",
        "        valid_items.append(item_id)\n",
        "\n",
        "interactions_df = interactions_df[interactions_df.user_id.isin(valid_users)]\n",
        "interactions_df = interactions_df[interactions_df.item_id.isin(valid_items)]\n",
        "\n",
        "print(f\"N users after: {interactions_df.user_id.nunique()}\")\n",
        "print(f\"N items after: {interactions_df.item_id.nunique()}\")"
      ]
    },
    {
      "cell_type": "code",
      "execution_count": 7,
      "id": "6-8PJKNEJKhA",
      "metadata": {
        "colab": {
          "base_uri": "https://localhost:8080/"
        },
        "id": "6-8PJKNEJKhA",
        "outputId": "0bd08ff6-a8a2-4323-d59b-75ee3293578a"
      },
      "outputs": [
        {
          "name": "stdout",
          "output_type": "stream",
          "text": [
            "65974\n",
            "6901\n"
          ]
        }
      ],
      "source": [
        "common_users = set(interactions_df.user_id.unique()).intersection(set(users_df.user_id.unique()))\n",
        "common_items = set(interactions_df.item_id.unique()).intersection(set(items_df.item_id.unique()))\n",
        "\n",
        "print(len(common_users))\n",
        "print(len(common_items))\n",
        "\n",
        "interactions_df = interactions_df[interactions_df.item_id.isin(common_items)]\n",
        "interactions_df = interactions_df[interactions_df.user_id.isin(common_users)]\n",
        "\n",
        "items_df = items_df[items_df.item_id.isin(common_items)]\n",
        "users_df = users_df[users_df.user_id.isin(common_users)]"
      ]
    },
    {
      "cell_type": "code",
      "execution_count": 8,
      "id": "n2Puf6nUJMu5",
      "metadata": {
        "colab": {
          "base_uri": "https://localhost:8080/"
        },
        "id": "n2Puf6nUJMu5",
        "outputId": "59ca7e69-36a4-402d-9660-0d9d6c330fa5"
      },
      "outputs": [
        {
          "name": "stdout",
          "output_type": "stream",
          "text": [
            "65974\n",
            "6897\n"
          ]
        }
      ],
      "source": [
        "common_users = set(interactions_df.user_id.unique()).intersection(set(users_df.user_id.unique()))\n",
        "common_items = set(interactions_df.item_id.unique()).intersection(set(items_df.item_id.unique()))\n",
        "\n",
        "print(len(common_users))\n",
        "print(len(common_items))\n",
        "\n",
        "interactions_df = interactions_df[interactions_df.item_id.isin(common_items)]\n",
        "interactions_df = interactions_df[interactions_df.user_id.isin(common_users)]\n",
        "\n",
        "items_df = items_df[items_df.item_id.isin(common_items)]\n",
        "users_df = users_df[users_df.user_id.isin(common_users)]"
      ]
    },
    {
      "cell_type": "code",
      "execution_count": 9,
      "id": "iZqzFRszJUdE",
      "metadata": {
        "colab": {
          "base_uri": "https://localhost:8080/",
          "height": 242
        },
        "id": "iZqzFRszJUdE",
        "outputId": "7ce372bc-99b9-499b-f19e-5146159a6ada"
      },
      "outputs": [
        {
          "name": "stdout",
          "output_type": "stream",
          "text": [
            "[0, 1, 2, 3, 4]\n",
            "[0, 1, 2, 3, 4]\n"
          ]
        },
        {
          "data": {
            "text/html": [
              "<div>\n",
              "<style scoped>\n",
              "    .dataframe tbody tr th:only-of-type {\n",
              "        vertical-align: middle;\n",
              "    }\n",
              "\n",
              "    .dataframe tbody tr th {\n",
              "        vertical-align: top;\n",
              "    }\n",
              "\n",
              "    .dataframe thead th {\n",
              "        text-align: right;\n",
              "    }\n",
              "</style>\n",
              "<table border=\"1\" class=\"dataframe\">\n",
              "  <thead>\n",
              "    <tr style=\"text-align: right;\">\n",
              "      <th></th>\n",
              "      <th>user_id</th>\n",
              "      <th>item_id</th>\n",
              "      <th>last_watch_dt</th>\n",
              "      <th>total_dur</th>\n",
              "      <th>watched_pct</th>\n",
              "      <th>uid</th>\n",
              "      <th>iid</th>\n",
              "    </tr>\n",
              "  </thead>\n",
              "  <tbody>\n",
              "    <tr>\n",
              "      <th>0</th>\n",
              "      <td>176549</td>\n",
              "      <td>9506</td>\n",
              "      <td>2021-05-11</td>\n",
              "      <td>4250</td>\n",
              "      <td>72.0</td>\n",
              "      <td>10616</td>\n",
              "      <td>3944</td>\n",
              "    </tr>\n",
              "    <tr>\n",
              "      <th>1</th>\n",
              "      <td>699317</td>\n",
              "      <td>1659</td>\n",
              "      <td>2021-05-29</td>\n",
              "      <td>8317</td>\n",
              "      <td>100.0</td>\n",
              "      <td>42131</td>\n",
              "      <td>675</td>\n",
              "    </tr>\n",
              "    <tr>\n",
              "      <th>6</th>\n",
              "      <td>1016458</td>\n",
              "      <td>354</td>\n",
              "      <td>2021-08-14</td>\n",
              "      <td>1672</td>\n",
              "      <td>25.0</td>\n",
              "      <td>61024</td>\n",
              "      <td>139</td>\n",
              "    </tr>\n",
              "    <tr>\n",
              "      <th>7</th>\n",
              "      <td>884009</td>\n",
              "      <td>693</td>\n",
              "      <td>2021-08-04</td>\n",
              "      <td>703</td>\n",
              "      <td>14.0</td>\n",
              "      <td>53150</td>\n",
              "      <td>279</td>\n",
              "    </tr>\n",
              "    <tr>\n",
              "      <th>14</th>\n",
              "      <td>5324</td>\n",
              "      <td>8437</td>\n",
              "      <td>2021-04-18</td>\n",
              "      <td>6598</td>\n",
              "      <td>92.0</td>\n",
              "      <td>310</td>\n",
              "      <td>3485</td>\n",
              "    </tr>\n",
              "  </tbody>\n",
              "</table>\n",
              "</div>"
            ],
            "text/plain": [
              "    user_id  item_id last_watch_dt  total_dur  watched_pct    uid   iid\n",
              "0    176549     9506    2021-05-11       4250         72.0  10616  3944\n",
              "1    699317     1659    2021-05-29       8317        100.0  42131   675\n",
              "6   1016458      354    2021-08-14       1672         25.0  61024   139\n",
              "7    884009      693    2021-08-04        703         14.0  53150   279\n",
              "14     5324     8437    2021-04-18       6598         92.0    310  3485"
            ]
          },
          "execution_count": 9,
          "metadata": {},
          "output_type": "execute_result"
        }
      ],
      "source": [
        "interactions_df[\"uid\"] = interactions_df[\"user_id\"].astype(\"category\")\n",
        "interactions_df[\"uid\"] = interactions_df[\"uid\"].cat.codes\n",
        "\n",
        "interactions_df[\"iid\"] = interactions_df[\"item_id\"].astype(\"category\")\n",
        "interactions_df[\"iid\"] = interactions_df[\"iid\"].cat.codes\n",
        "\n",
        "print(sorted(interactions_df.iid.unique())[:5])\n",
        "print(sorted(interactions_df.uid.unique())[:5])\n",
        "interactions_df.head()"
      ]
    },
    {
      "cell_type": "code",
      "execution_count": 10,
      "id": "etxjR5nvJUjm",
      "metadata": {
        "colab": {
          "base_uri": "https://localhost:8080/"
        },
        "id": "etxjR5nvJUjm",
        "outputId": "91a3acfb-b377-4ae3-c580-62c06d4669f7"
      },
      "outputs": [
        {
          "name": "stdout",
          "output_type": "stream",
          "text": [
            "6897\n",
            "6897\n",
            "65974\n",
            "65974\n",
            "set()\n"
          ]
        }
      ],
      "source": [
        "interactions_vec = np.zeros((interactions_df.uid.nunique(), interactions_df.iid.nunique()))\n",
        "\n",
        "for user_id, item_id in zip(interactions_df.uid, interactions_df.iid):\n",
        "    interactions_vec[user_id, item_id] += 1\n",
        "\n",
        "\n",
        "res = interactions_vec.sum(axis=1)\n",
        "for i in range(len(interactions_vec)):\n",
        "    interactions_vec[i] /= res[i]\n",
        "\n",
        "print(interactions_df.item_id.nunique())\n",
        "print(items_df.item_id.nunique())\n",
        "print(interactions_df.user_id.nunique())\n",
        "print(users_df.user_id.nunique())\n",
        "\n",
        "print(set(items_df.item_id.unique()) - set(interactions_df.item_id.unique()))"
      ]
    },
    {
      "cell_type": "code",
      "execution_count": 11,
      "id": "ABZH739kJUm_",
      "metadata": {
        "id": "ABZH739kJUm_"
      },
      "outputs": [],
      "source": [
        "iid_to_item_id = interactions_df[[\"iid\", \"item_id\"]].drop_duplicates().set_index(\"iid\").to_dict()[\"item_id\"]\n",
        "item_id_to_iid = interactions_df[[\"iid\", \"item_id\"]].drop_duplicates().set_index(\"item_id\").to_dict()[\"iid\"]\n",
        "\n",
        "uid_to_user_id = interactions_df[[\"uid\", \"user_id\"]].drop_duplicates().set_index(\"uid\").to_dict()[\"user_id\"]\n",
        "user_id_to_uid = interactions_df[[\"uid\", \"user_id\"]].drop_duplicates().set_index(\"user_id\").to_dict()[\"uid\"]\n",
        "\n",
        "items_df[\"iid\"] = items_df[\"item_id\"].apply(lambda x: item_id_to_iid[x])\n",
        "items_df = items_df.set_index(\"iid\")\n",
        "\n",
        "users_df[\"uid\"] = users_df[\"user_id\"].apply(lambda x: user_id_to_uid[x])\n",
        "users_df = users_df.set_index(\"uid\")"
      ]
    },
    {
      "cell_type": "code",
      "execution_count": 12,
      "id": "8a70140a",
      "metadata": {
        "colab": {
          "base_uri": "https://localhost:8080/"
        },
        "id": "8a70140a",
        "outputId": "fcb32cbc-453c-4b35-c1b1-f96f380b9224"
      },
      "outputs": [
        {
          "name": "stdout",
          "output_type": "stream",
          "text": [
            "ITEM_MODEL_SHAPE: 7\n",
            "USER_META_MODEL_SHAPE: 4\n",
            "USER_INTERACTION_MODEL_SHAPE: 6897\n"
          ]
        }
      ],
      "source": [
        "ITEM_MODEL_SHAPE = items_df.drop([\"item_id\"], axis=1).shape[1]\n",
        "USER_META_MODEL_SHAPE = users_df.drop([\"user_id\"], axis=1).shape[1]\n",
        "\n",
        "USER_INTERACTION_MODEL_SHAPE = interactions_vec.shape[1]\n",
        "\n",
        "print(f\"ITEM_MODEL_SHAPE: {ITEM_MODEL_SHAPE}\")\n",
        "print(f\"USER_META_MODEL_SHAPE: {USER_META_MODEL_SHAPE}\")\n",
        "print(f\"USER_INTERACTION_MODEL_SHAPE: {USER_INTERACTION_MODEL_SHAPE}\")"
      ]
    },
    {
      "cell_type": "code",
      "execution_count": null,
      "id": "cf5aa0de",
      "metadata": {
        "id": "cf5aa0de"
      },
      "outputs": [],
      "source": [
        "# немного ускорила код, лучше без pandas и iloc в __getitem__\n",
        "class RecSysDataset(Dataset):\n",
        "    def __init__(self, items, users, interactions):\n",
        "        self.items = items.values\n",
        "        self.users = users.values\n",
        "        self.interactions = interactions\n",
        "        self.num_interactions = self.interactions.shape[1]\n",
        "\n",
        "    def __len__(self):\n",
        "        return self.interactions.shape[0]\n",
        "\n",
        "    def __getitem__(self, idx):\n",
        "        p = self.interactions[idx]\n",
        "        pos_i = np.random.choice(self.num_interactions, p=p)\n",
        "        neg_i = np.random.randint(self.num_interactions)\n",
        "\n",
        "        idx_meta = self.users[idx]\n",
        "        idx_interaction = self.interactions[idx]\n",
        "        pos = self.items[pos_i]\n",
        "        neg = self.items[neg_i]\n",
        "\n",
        "        return (\n",
        "            torch.tensor(idx_meta, dtype=torch.long),\n",
        "            torch.tensor(idx_interaction, dtype=torch.float32),\n",
        "            torch.tensor(pos, dtype=torch.long),\n",
        "            torch.tensor(neg, dtype=torch.long),\n",
        "        )"
      ]
    },
    {
      "cell_type": "code",
      "execution_count": 14,
      "id": "ybC36zMNKMH2",
      "metadata": {
        "id": "ybC36zMNKMH2"
      },
      "outputs": [],
      "source": [
        "dataset = RecSysDataset(\n",
        "    items=items_df.drop([\"item_id\"], axis=1),\n",
        "    users=users_df.drop([\"user_id\"], axis=1),\n",
        "    interactions=interactions_vec,\n",
        ")\n",
        "dataloader = DataLoader(dataset, batch_size=128, shuffle=True)"
      ]
    },
    {
      "cell_type": "markdown",
      "id": "r6umaGkWKg14",
      "metadata": {
        "id": "r6umaGkWKg14"
      },
      "source": [
        "## Модификация модели\n"
      ]
    },
    {
      "cell_type": "code",
      "execution_count": null,
      "id": "8nT6WO_HPJy2",
      "metadata": {
        "id": "8nT6WO_HPJy2"
      },
      "outputs": [],
      "source": [
        "# Transformer для признаков\n",
        "# добавила также dropout, layer norm\n",
        "class TabularFeatureTransformer(nn.Module):\n",
        "    def __init__(self, categories_n_uniques, embed_dim=128, n_heads=2, ff_dim=256, num_layers=2, dropout=0.1):\n",
        "        \"\"\"\n",
        "        categories_n_uniques: List[int] — количество уникальных значений для каждого категориального признака\n",
        "        \"\"\"\n",
        "        super().__init__()\n",
        "\n",
        "        self.num_features = len(categories_n_uniques)\n",
        "\n",
        "        # создаём embedding слой для каждого признака\n",
        "        self.embeddings = nn.ModuleList(\n",
        "            [\n",
        "                nn.Embedding(num_embeddings=n + 1, embedding_dim=embed_dim)  # +1 на случай OOV\n",
        "                for n in categories_n_uniques\n",
        "            ]\n",
        "        )\n",
        "\n",
        "        encoder_layer = nn.TransformerEncoderLayer(\n",
        "            d_model=embed_dim,\n",
        "            nhead=n_heads,\n",
        "            dim_feedforward=ff_dim,\n",
        "            dropout=dropout,\n",
        "            batch_first=True,  # теперь можно не транспонировать\n",
        "        )\n",
        "        self.encoder = nn.TransformerEncoder(encoder_layer, num_layers=num_layers)\n",
        "        self.layernorm = nn.LayerNorm(embed_dim)\n",
        "\n",
        "    def forward(self, x):\n",
        "        # x: (batch_size, num_features)\n",
        "        embeddings = [emb(x[:, i]) for i, emb in enumerate(self.embeddings)]\n",
        "        x = torch.stack(embeddings, dim=1)  # (batch_size, num_features, embed_dim)\n",
        "        x = self.encoder(x)  # (batch_size, num_features, embed_dim)\n",
        "        x = self.layernorm(x.mean(dim=1))  # агрегируем по признакам\n",
        "        return x  # (batch_size, embed_dim)"
      ]
    },
    {
      "cell_type": "code",
      "execution_count": null,
      "id": "01722097",
      "metadata": {},
      "outputs": [],
      "source": [
        "# попытка сделать трансформер для последовательности истории, пока неудачная\n",
        "# class TabularHistTransformer(nn.Module):\n",
        "#     def __init__(self, input_dim, embed_dim=128, n_heads=2, ff_dim=256, num_layers=2, dropout=0.1):\n",
        "#         super().__init__()\n",
        "#         self.input_proj = nn.Linear(1, embed_dim)\n",
        "\n",
        "#         encoder_layer = nn.TransformerEncoderLayer(\n",
        "#             d_model=embed_dim,\n",
        "#             nhead=n_heads,\n",
        "#             dim_feedforward=ff_dim,\n",
        "#             dropout=dropout,\n",
        "#             batch_first=True,\n",
        "#         )\n",
        "#         self.encoder = nn.TransformerEncoder(encoder_layer, num_layers=num_layers)\n",
        "#         self.layernorm = nn.LayerNorm(embed_dim)\n",
        "\n",
        "#     def forward(self, x):\n",
        "#         # x: (batch_size, feature_dim)\n",
        "#         x = x.unsqueeze(-1)  # (batch_size, feature_dim, 1)\n",
        "#         x = self.input_proj(x)  # (batch_size, feature_dim, embed_dim)\n",
        "#         x = self.encoder(x)  # (batch_size, feature_dim, embed_dim)\n",
        "#         x = self.layernorm(x.mean(dim=1))  # агрегируем по фичам\n",
        "#         return x  # (batch_size, embed_dim)"
      ]
    },
    {
      "cell_type": "code",
      "execution_count": 17,
      "id": "VTW0jx47RuXJ",
      "metadata": {
        "id": "VTW0jx47RuXJ"
      },
      "outputs": [],
      "source": [
        "class DSSMTransformer(nn.Module):\n",
        "    def __init__(self, user_meta_dim, user_hist_dim, item_feat_dim, embed_dim=128):\n",
        "        super().__init__()\n",
        "        # отдельные энкодеры для каждой части\n",
        "        self.user_meta_encoder = TabularFeatureTransformer(user_meta_dim, embed_dim)\n",
        "        # self.user_hist_encoder = TabularHistTransformer(user_hist_dim, embed_dim)\n",
        "        # пока не получилось отладить трансформерную версию,\n",
        "        # поэтому для кодирования истории оставлю линейный слой\n",
        "        self.user_hist_encoder = nn.Linear(user_hist_dim, embed_dim)\n",
        "        self.item_encoder = TabularFeatureTransformer(item_feat_dim, embed_dim)\n",
        "\n",
        "        # финальное объединение user части\n",
        "        self.user_fc = nn.Linear(embed_dim * 2, embed_dim)\n",
        "\n",
        "    def encode_user(self, meta, hist):\n",
        "        meta_emb = self.user_meta_encoder(meta)\n",
        "        hist_emb = torch.relu(self.user_hist_encoder(hist))\n",
        "        user_emb = torch.cat([meta_emb, hist_emb], dim=1)\n",
        "        return F.normalize(self.user_fc(user_emb))\n",
        "\n",
        "    def encode_item(self, item_feat):\n",
        "        return F.normalize(self.item_encoder(item_feat))\n",
        "\n",
        "    def forward(self, user_meta, user_hist, item_feat):\n",
        "        user_emb = self.encode_user(user_meta, user_hist)\n",
        "        item_emb = self.encode_item(item_feat)\n",
        "        # sim = F.cosine_similarity(user_emb, item_emb)\n",
        "        # решила использовать dot product, так как он чаще используется с BPR,\n",
        "        # чем cosine similarity\n",
        "        sim = (user_emb * item_emb).sum(dim=1)\n",
        "        return sim"
      ]
    },
    {
      "cell_type": "code",
      "execution_count": 18,
      "id": "3DwBkgixKf81",
      "metadata": {
        "id": "3DwBkgixKf81"
      },
      "outputs": [],
      "source": [
        "# изменила лосс на BPR\n",
        "class DSSMRecSysModel(L.LightningModule):\n",
        "    def __init__(self, user_meta_dim, user_hist_dim, item_feat_dim, embed_dim=128, lr=1e-3):\n",
        "        super().__init__()\n",
        "        self.save_hyperparameters()\n",
        "\n",
        "        self.dssm = DSSMTransformer(user_meta_dim, user_hist_dim, item_feat_dim, embed_dim)\n",
        "        self.lr = lr\n",
        "\n",
        "    def forward(self, user_meta, user_hist, item):\n",
        "        return self.dssm(user_meta, user_hist, item)\n",
        "\n",
        "    def training_step(self, batch, batch_idx):\n",
        "        user_meta, user_hist, pos_item, neg_item = batch\n",
        "        pos_sim = self(user_meta, user_hist, pos_item)\n",
        "        neg_sim = self(user_meta, user_hist, neg_item)\n",
        "\n",
        "        # BPR loss\n",
        "        diff = pos_sim - neg_sim\n",
        "        loss = -F.logsigmoid(diff).mean()\n",
        "        self.log(\"train_loss\", loss, on_step=True, on_epoch=True, prog_bar=True)\n",
        "        if batch_idx % 500 == 0:\n",
        "            print(f\"{loss}\")\n",
        "        return loss\n",
        "\n",
        "    def configure_optimizers(self):\n",
        "        return torch.optim.Adam(self.parameters(), lr=self.lr)\n",
        "\n",
        "    def get_user_embeddings(self, meta, hist):\n",
        "        return self.dssm.encode_user(meta, hist)\n",
        "\n",
        "    def get_item_embeddings(self, item_feat):\n",
        "        return self.dssm.encode_item(item_feat)"
      ]
    },
    {
      "cell_type": "code",
      "execution_count": 22,
      "id": "s6BXhoXfKf_N",
      "metadata": {
        "id": "s6BXhoXfKf_N"
      },
      "outputs": [],
      "source": [
        "model = DSSMRecSysModel(\n",
        "    user_meta_dim=USER_CATEGORIES_N_UNIQUE,\n",
        "    user_hist_dim=USER_INTERACTION_MODEL_SHAPE,\n",
        "    item_feat_dim=ITEM_CATEGORIES_N_UNIQUE,\n",
        "    embed_dim=64,\n",
        "    lr=1e-3,\n",
        ")"
      ]
    },
    {
      "cell_type": "code",
      "execution_count": null,
      "id": "dMjozLt2KgBn",
      "metadata": {
        "colab": {
          "base_uri": "https://localhost:8080/",
          "height": 1000,
          "referenced_widgets": [
            "19590d7d602f4d0288114176cc719fc6",
            "e6e6e55b52a34486b1158b5ebc567480",
            "d33a28ab6423439b990aee47a73e3df1",
            "5116487143404de5a45fac41b965d7e8",
            "79c8e0bfbff0442ba622f551cb2444ec",
            "f823a015ce86453aab555218cdaa2605",
            "f49a051bdea74077ab44e2b5fda456bc",
            "60aa0ead9440455f8c6ed02f8f0129dd",
            "f5dc95640ca64e7382dbfc2c59155bca",
            "5177861bc1a74d4c88dabfade37ed59e",
            "db75a790900e462bae008be925656967"
          ]
        },
        "id": "dMjozLt2KgBn",
        "outputId": "fc17e349-8694-4ebc-824b-cc32a1fa5172"
      },
      "outputs": [
        {
          "name": "stderr",
          "output_type": "stream",
          "text": [
            "GPU available: True (cuda), used: True\n",
            "TPU available: False, using: 0 TPU cores\n",
            "HPU available: False, using: 0 HPUs\n",
            "LOCAL_RANK: 0 - CUDA_VISIBLE_DEVICES: [0]\n",
            "\n",
            "  | Name | Type            | Params | Mode \n",
            "-------------------------------------------------\n",
            "0 | dssm | DSSMTransformer | 1.2 M  | train\n",
            "-------------------------------------------------\n",
            "1.2 M     Trainable params\n",
            "0         Non-trainable params\n",
            "1.2 M     Total params\n",
            "4.865     Total estimated model params size (MB)\n",
            "64        Modules in train mode\n",
            "0         Modules in eval mode\n"
          ]
        },
        {
          "data": {
            "application/vnd.jupyter.widget-view+json": {
              "model_id": "4700619f7f4741b4a12be2b62f12a140",
              "version_major": 2,
              "version_minor": 0
            },
            "text/plain": [
              "Training: |          | 0/? [00:00<?, ?it/s]"
            ]
          },
          "metadata": {},
          "output_type": "display_data"
        },
        {
          "name": "stdout",
          "output_type": "stream",
          "text": [
            "0.696000337600708\n",
            "0.5497417449951172\n",
            "0.4905659258365631\n",
            "0.4710859954357147\n",
            "0.4150999188423157\n",
            "0.4272647798061371\n",
            "0.47055330872535706\n",
            "0.3870401978492737\n",
            "0.49417683482170105\n",
            "0.41589730978012085\n",
            "0.47959473729133606\n",
            "0.36399340629577637\n",
            "0.3950423002243042\n",
            "0.41561681032180786\n",
            "0.3479180932044983\n",
            "0.35648202896118164\n",
            "0.4048798680305481\n",
            "0.3624531030654907\n",
            "0.43366873264312744\n",
            "0.3782428801059723\n",
            "0.37151482701301575\n",
            "0.34560877084732056\n",
            "0.3598695397377014\n",
            "0.42778342962265015\n",
            "0.3292683959007263\n",
            "0.33185288310050964\n",
            "0.4018973112106323\n",
            "0.40156006813049316\n",
            "0.37271010875701904\n",
            "0.4062381386756897\n",
            "0.35872840881347656\n",
            "0.4079963266849518\n",
            "0.3697158992290497\n",
            "0.36353522539138794\n",
            "0.3614277243614197\n",
            "0.4134209156036377\n",
            "0.40662258863449097\n",
            "0.3986271321773529\n",
            "0.38601821660995483\n",
            "0.37435853481292725\n"
          ]
        },
        {
          "name": "stderr",
          "output_type": "stream",
          "text": [
            "`Trainer.fit` stopped: `max_epochs=20` reached.\n"
          ]
        }
      ],
      "source": [
        "loss_checkpoint_callback = ModelCheckpoint(\n",
        "    dirpath=\"checkpoints/\",\n",
        "    filename=\"best-checkpoint\",\n",
        "    monitor=\"train_loss\",\n",
        "    mode=\"min\",\n",
        "    save_top_k=1,\n",
        ")\n",
        "\n",
        "trainer = Trainer(\n",
        "    callbacks=[loss_checkpoint_callback],\n",
        "    max_epochs=20,\n",
        "    devices=1,\n",
        "    accelerator=\"cuda\",\n",
        "    log_every_n_steps=100,\n",
        ")\n",
        "\n",
        "# по хорошему, нужно отделить датасет для валидации конечно...\n",
        "# но пока успеваю только так\n",
        "trainer.fit(model, dataloader)"
      ]
    },
    {
      "cell_type": "markdown",
      "id": "3f915dbb",
      "metadata": {},
      "source": [
        "## Сохранение артефактов ANN для сервиса"
      ]
    },
    {
      "cell_type": "code",
      "execution_count": null,
      "id": "225a37e4",
      "metadata": {},
      "outputs": [],
      "source": [
        "model.eval()\n",
        "\n",
        "user_meta_tensor = torch.tensor(users_df.drop(\"user_id\", axis=1).values, dtype=torch.long)\n",
        "user_hist_tensor = torch.tensor(interactions_vec, dtype=torch.float32)\n",
        "\n",
        "with torch.no_grad():\n",
        "    user_vectors = model.get_user_embeddings(user_meta_tensor, user_hist_tensor).cpu().numpy()\n",
        "\n",
        "item_feat_tensor = torch.tensor(items_df.drop(\"item_id\", axis=1).values, dtype=torch.long)\n",
        "\n",
        "with torch.no_grad():\n",
        "    item_vectors = model.get_item_embeddings(item_feat_tensor).cpu().numpy()\n",
        "\n",
        "user_ids = users_df[\"user_id\"].values\n",
        "item_ids = items_df[\"item_id\"].values\n",
        "\n",
        "user_id_map = {i: uid for i, uid in enumerate(user_ids)}\n",
        "item_id_map = {i: iid for i, iid in enumerate(item_ids)}\n",
        "reverse_user_id_map = {uid: i for i, uid in user_id_map.items()}\n",
        "\n",
        "save_dir = \"to_recsys\"\n",
        "np.save(f\"{save_dir}/user_vectors.npy\", user_vectors)\n",
        "np.save(f\"{save_dir}/item_vectors.npy\", item_vectors)\n",
        "\n",
        "with open(f\"{save_dir}/user_id_map.pkl\", \"wb\") as f:\n",
        "    pickle.dump(user_id_map, f)\n",
        "with open(f\"{save_dir}/item_id_map.pkl\", \"wb\") as f:\n",
        "    pickle.dump(item_id_map, f)\n",
        "with open(f\"{save_dir}/reverse_user_id_map.pkl\", \"wb\") as f:\n",
        "    pickle.dump(reverse_user_id_map, f)\n",
        "\n",
        "index = nmslib.init(method=\"hnsw\", space=\"negdotprod\")\n",
        "index.addDataPointBatch(item_vectors)\n",
        "index.createIndex({\"post\": 2}, print_progress=True)\n",
        "\n",
        "index.saveIndex(f\"{save_dir}/ann_index.nmslib\")"
      ]
    },
    {
      "cell_type": "code",
      "execution_count": null,
      "id": "355d1cd5",
      "metadata": {},
      "outputs": [],
      "source": [
        "# просто примерно проверила, как будет в сервисе загружаться\n",
        "load_dir = \"to_recsys\"\n",
        "\n",
        "user_vectors = np.load(f\"{load_dir}/user_vectors.npy\")\n",
        "item_vectors = np.load(f\"{load_dir}/item_vectors.npy\")\n",
        "\n",
        "with open(f\"{load_dir}/user_id_map.pkl\", \"rb\") as f:\n",
        "    user_id_map = pickle.load(f)\n",
        "with open(f\"{load_dir}/item_id_map.pkl\", \"rb\") as f:\n",
        "    item_id_map = pickle.load(f)\n",
        "with open(f\"{load_dir}/reverse_user_id_map.pkl\", \"rb\") as f:\n",
        "    reverse_user_id_map = pickle.load(f)\n",
        "\n",
        "index = nmslib.init(method=\"hnsw\", space=\"cosinesimil\")\n",
        "index.loadIndex(f\"{load_dir}/ann_index.nmslib\")\n",
        "\n",
        "\n",
        "def recommend(user_id, top_n=10):\n",
        "    if user_id not in reverse_user_id_map:\n",
        "        raise ValueError(f\"Unknown user_id: {user_id}\")\n",
        "    user_idx = reverse_user_id_map[user_id]\n",
        "    user_vector = user_vectors[user_idx]\n",
        "    ids, distances = index.knnQuery(user_vector, k=top_n)\n",
        "    return [item_id_map[i] for i in ids]"
      ]
    },
    {
      "cell_type": "code",
      "execution_count": 64,
      "id": "63f3dd34",
      "metadata": {},
      "outputs": [
        {
          "data": {
            "text/plain": [
              "[14391, 15479, 8251, 9351, 10447, 7036, 5978, 6028, 10612, 12247]"
            ]
          },
          "execution_count": 64,
          "metadata": {},
          "output_type": "execute_result"
        }
      ],
      "source": [
        "recommend(2)"
      ]
    },
    {
      "cell_type": "markdown",
      "id": "5df00ada",
      "metadata": {},
      "source": [
        "## Что было сделано\n",
        "1. Код предобработки данных по большей части взяла из семинара, изменила только то, как кодируются категориальные признаки. Для получения эмбеддингов категорий нужно Label кодирование, а не One Hot. Это позволило мне далее использовать трансформеры \n",
        "\n",
        "2. Немного оптимизировала класс датасета, так как у меня он очень медленно работал. Избавилась от pandas, что все ускорило\n",
        "\n",
        "3. Главные изменения были в модели. Мне очень хотелось использовать трансформерные модели на табличках, поэтому написала свой базовый класс, вдохновленный TabTransformer. Так как у нас все признаки категориальные, то каждая уникальная категория получает эмбеддинг, тогда юзер или айтем это последовательность таких эмбеддингов категорий. Специально не стала добавлять позиционные эмбеддинги, так как не важен порядок категорий. И сверху всей этой красоты просто self attention\n",
        "\n",
        "4. Много провозилась с тем, чтобы использовать трансформер и для interactions, но у меня либо ничего не училось, либо училось плохо, поэтому просто оставила линейный слой, уже хорошо себя показавший\n",
        "\n",
        "5. Заменила лосс на BPR\n",
        "\n",
        "6. Добавила layer normalisation, dropout для стабилизации обучения\n",
        "\n",
        "7. На лидерборде появилась с моделью 'dssm' и MAP@10 = 0.0880846 (у моей UserNNN было 0.07441776)\n",
        "\n",
        "8. Гиперпараметры, честно говоря, подбирала эмпирически и на глаз из-за нехватки времени. При увеличении той же размерности эмбеддингов модель начинала учиться дольше и в какой-то момент замирала на плато, лосс почти не падал. В теории, это можно решить каким-нибудь динамическим подбором lr, но это пунктик на будущее "
      ]
    }
  ],
  "metadata": {
    "accelerator": "GPU",
    "colab": {
      "gpuType": "T4",
      "provenance": []
    },
    "kernelspec": {
      "display_name": ".venv",
      "language": "python",
      "name": "python3"
    },
    "language_info": {
      "codemirror_mode": {
        "name": "ipython",
        "version": 3
      },
      "file_extension": ".py",
      "mimetype": "text/x-python",
      "name": "python",
      "nbconvert_exporter": "python",
      "pygments_lexer": "ipython3",
      "version": "3.12.4"
    },
    "widgets": {
      "application/vnd.jupyter.widget-state+json": {
        "19590d7d602f4d0288114176cc719fc6": {
          "model_module": "@jupyter-widgets/controls",
          "model_module_version": "1.5.0",
          "model_name": "HBoxModel",
          "state": {
            "_dom_classes": [],
            "_model_module": "@jupyter-widgets/controls",
            "_model_module_version": "1.5.0",
            "_model_name": "HBoxModel",
            "_view_count": null,
            "_view_module": "@jupyter-widgets/controls",
            "_view_module_version": "1.5.0",
            "_view_name": "HBoxView",
            "box_style": "",
            "children": [
              "IPY_MODEL_e6e6e55b52a34486b1158b5ebc567480",
              "IPY_MODEL_d33a28ab6423439b990aee47a73e3df1",
              "IPY_MODEL_5116487143404de5a45fac41b965d7e8"
            ],
            "layout": "IPY_MODEL_79c8e0bfbff0442ba622f551cb2444ec"
          }
        },
        "5116487143404de5a45fac41b965d7e8": {
          "model_module": "@jupyter-widgets/controls",
          "model_module_version": "1.5.0",
          "model_name": "HTMLModel",
          "state": {
            "_dom_classes": [],
            "_model_module": "@jupyter-widgets/controls",
            "_model_module_version": "1.5.0",
            "_model_name": "HTMLModel",
            "_view_count": null,
            "_view_module": "@jupyter-widgets/controls",
            "_view_module_version": "1.5.0",
            "_view_name": "HTMLView",
            "description": "",
            "description_tooltip": null,
            "layout": "IPY_MODEL_5177861bc1a74d4c88dabfade37ed59e",
            "placeholder": "​",
            "style": "IPY_MODEL_db75a790900e462bae008be925656967",
            "value": " 540/2062 [3:00:57&lt;8:30:02,  0.05it/s, v_num=20, train_loss_step=0.714]"
          }
        },
        "5177861bc1a74d4c88dabfade37ed59e": {
          "model_module": "@jupyter-widgets/base",
          "model_module_version": "1.2.0",
          "model_name": "LayoutModel",
          "state": {
            "_model_module": "@jupyter-widgets/base",
            "_model_module_version": "1.2.0",
            "_model_name": "LayoutModel",
            "_view_count": null,
            "_view_module": "@jupyter-widgets/base",
            "_view_module_version": "1.2.0",
            "_view_name": "LayoutView",
            "align_content": null,
            "align_items": null,
            "align_self": null,
            "border": null,
            "bottom": null,
            "display": null,
            "flex": null,
            "flex_flow": null,
            "grid_area": null,
            "grid_auto_columns": null,
            "grid_auto_flow": null,
            "grid_auto_rows": null,
            "grid_column": null,
            "grid_gap": null,
            "grid_row": null,
            "grid_template_areas": null,
            "grid_template_columns": null,
            "grid_template_rows": null,
            "height": null,
            "justify_content": null,
            "justify_items": null,
            "left": null,
            "margin": null,
            "max_height": null,
            "max_width": null,
            "min_height": null,
            "min_width": null,
            "object_fit": null,
            "object_position": null,
            "order": null,
            "overflow": null,
            "overflow_x": null,
            "overflow_y": null,
            "padding": null,
            "right": null,
            "top": null,
            "visibility": null,
            "width": null
          }
        },
        "60aa0ead9440455f8c6ed02f8f0129dd": {
          "model_module": "@jupyter-widgets/base",
          "model_module_version": "1.2.0",
          "model_name": "LayoutModel",
          "state": {
            "_model_module": "@jupyter-widgets/base",
            "_model_module_version": "1.2.0",
            "_model_name": "LayoutModel",
            "_view_count": null,
            "_view_module": "@jupyter-widgets/base",
            "_view_module_version": "1.2.0",
            "_view_name": "LayoutView",
            "align_content": null,
            "align_items": null,
            "align_self": null,
            "border": null,
            "bottom": null,
            "display": null,
            "flex": "2",
            "flex_flow": null,
            "grid_area": null,
            "grid_auto_columns": null,
            "grid_auto_flow": null,
            "grid_auto_rows": null,
            "grid_column": null,
            "grid_gap": null,
            "grid_row": null,
            "grid_template_areas": null,
            "grid_template_columns": null,
            "grid_template_rows": null,
            "height": null,
            "justify_content": null,
            "justify_items": null,
            "left": null,
            "margin": null,
            "max_height": null,
            "max_width": null,
            "min_height": null,
            "min_width": null,
            "object_fit": null,
            "object_position": null,
            "order": null,
            "overflow": null,
            "overflow_x": null,
            "overflow_y": null,
            "padding": null,
            "right": null,
            "top": null,
            "visibility": null,
            "width": null
          }
        },
        "79c8e0bfbff0442ba622f551cb2444ec": {
          "model_module": "@jupyter-widgets/base",
          "model_module_version": "1.2.0",
          "model_name": "LayoutModel",
          "state": {
            "_model_module": "@jupyter-widgets/base",
            "_model_module_version": "1.2.0",
            "_model_name": "LayoutModel",
            "_view_count": null,
            "_view_module": "@jupyter-widgets/base",
            "_view_module_version": "1.2.0",
            "_view_name": "LayoutView",
            "align_content": null,
            "align_items": null,
            "align_self": null,
            "border": null,
            "bottom": null,
            "display": "inline-flex",
            "flex": null,
            "flex_flow": "row wrap",
            "grid_area": null,
            "grid_auto_columns": null,
            "grid_auto_flow": null,
            "grid_auto_rows": null,
            "grid_column": null,
            "grid_gap": null,
            "grid_row": null,
            "grid_template_areas": null,
            "grid_template_columns": null,
            "grid_template_rows": null,
            "height": null,
            "justify_content": null,
            "justify_items": null,
            "left": null,
            "margin": null,
            "max_height": null,
            "max_width": null,
            "min_height": null,
            "min_width": null,
            "object_fit": null,
            "object_position": null,
            "order": null,
            "overflow": null,
            "overflow_x": null,
            "overflow_y": null,
            "padding": null,
            "right": null,
            "top": null,
            "visibility": null,
            "width": "100%"
          }
        },
        "d33a28ab6423439b990aee47a73e3df1": {
          "model_module": "@jupyter-widgets/controls",
          "model_module_version": "1.5.0",
          "model_name": "FloatProgressModel",
          "state": {
            "_dom_classes": [],
            "_model_module": "@jupyter-widgets/controls",
            "_model_module_version": "1.5.0",
            "_model_name": "FloatProgressModel",
            "_view_count": null,
            "_view_module": "@jupyter-widgets/controls",
            "_view_module_version": "1.5.0",
            "_view_name": "ProgressView",
            "bar_style": "",
            "description": "",
            "description_tooltip": null,
            "layout": "IPY_MODEL_60aa0ead9440455f8c6ed02f8f0129dd",
            "max": 2062,
            "min": 0,
            "orientation": "horizontal",
            "style": "IPY_MODEL_f5dc95640ca64e7382dbfc2c59155bca",
            "value": 540
          }
        },
        "db75a790900e462bae008be925656967": {
          "model_module": "@jupyter-widgets/controls",
          "model_module_version": "1.5.0",
          "model_name": "DescriptionStyleModel",
          "state": {
            "_model_module": "@jupyter-widgets/controls",
            "_model_module_version": "1.5.0",
            "_model_name": "DescriptionStyleModel",
            "_view_count": null,
            "_view_module": "@jupyter-widgets/base",
            "_view_module_version": "1.2.0",
            "_view_name": "StyleView",
            "description_width": ""
          }
        },
        "e6e6e55b52a34486b1158b5ebc567480": {
          "model_module": "@jupyter-widgets/controls",
          "model_module_version": "1.5.0",
          "model_name": "HTMLModel",
          "state": {
            "_dom_classes": [],
            "_model_module": "@jupyter-widgets/controls",
            "_model_module_version": "1.5.0",
            "_model_name": "HTMLModel",
            "_view_count": null,
            "_view_module": "@jupyter-widgets/controls",
            "_view_module_version": "1.5.0",
            "_view_name": "HTMLView",
            "description": "",
            "description_tooltip": null,
            "layout": "IPY_MODEL_f823a015ce86453aab555218cdaa2605",
            "placeholder": "​",
            "style": "IPY_MODEL_f49a051bdea74077ab44e2b5fda456bc",
            "value": "Epoch 0:  26%"
          }
        },
        "f49a051bdea74077ab44e2b5fda456bc": {
          "model_module": "@jupyter-widgets/controls",
          "model_module_version": "1.5.0",
          "model_name": "DescriptionStyleModel",
          "state": {
            "_model_module": "@jupyter-widgets/controls",
            "_model_module_version": "1.5.0",
            "_model_name": "DescriptionStyleModel",
            "_view_count": null,
            "_view_module": "@jupyter-widgets/base",
            "_view_module_version": "1.2.0",
            "_view_name": "StyleView",
            "description_width": ""
          }
        },
        "f5dc95640ca64e7382dbfc2c59155bca": {
          "model_module": "@jupyter-widgets/controls",
          "model_module_version": "1.5.0",
          "model_name": "ProgressStyleModel",
          "state": {
            "_model_module": "@jupyter-widgets/controls",
            "_model_module_version": "1.5.0",
            "_model_name": "ProgressStyleModel",
            "_view_count": null,
            "_view_module": "@jupyter-widgets/base",
            "_view_module_version": "1.2.0",
            "_view_name": "StyleView",
            "bar_color": null,
            "description_width": ""
          }
        },
        "f823a015ce86453aab555218cdaa2605": {
          "model_module": "@jupyter-widgets/base",
          "model_module_version": "1.2.0",
          "model_name": "LayoutModel",
          "state": {
            "_model_module": "@jupyter-widgets/base",
            "_model_module_version": "1.2.0",
            "_model_name": "LayoutModel",
            "_view_count": null,
            "_view_module": "@jupyter-widgets/base",
            "_view_module_version": "1.2.0",
            "_view_name": "LayoutView",
            "align_content": null,
            "align_items": null,
            "align_self": null,
            "border": null,
            "bottom": null,
            "display": null,
            "flex": null,
            "flex_flow": null,
            "grid_area": null,
            "grid_auto_columns": null,
            "grid_auto_flow": null,
            "grid_auto_rows": null,
            "grid_column": null,
            "grid_gap": null,
            "grid_row": null,
            "grid_template_areas": null,
            "grid_template_columns": null,
            "grid_template_rows": null,
            "height": null,
            "justify_content": null,
            "justify_items": null,
            "left": null,
            "margin": null,
            "max_height": null,
            "max_width": null,
            "min_height": null,
            "min_width": null,
            "object_fit": null,
            "object_position": null,
            "order": null,
            "overflow": null,
            "overflow_x": null,
            "overflow_y": null,
            "padding": null,
            "right": null,
            "top": null,
            "visibility": null,
            "width": null
          }
        }
      }
    }
  },
  "nbformat": 4,
  "nbformat_minor": 5
}
